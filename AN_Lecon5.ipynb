{
 "cells": [
  {
   "cell_type": "code",
   "execution_count": 5,
   "metadata": {
    "collapsed": false
   },
   "outputs": [
    {
     "data": {
      "text/plain": [
       "[10  7  8  7]\n",
       "[ 7  5  6  5]\n",
       "[ 8  6 10  9]\n",
       "[ 7  5  9 10]"
      ]
     },
     "execution_count": 5,
     "metadata": {
     },
     "output_type": "execute_result"
    }
   ],
   "source": [
    "A = matrix(4,4, [10,7,8,7, 7,5,6,5, 8,6,10,9, 7,5,9,10])\n",
    "A"
   ]
  },
  {
   "cell_type": "code",
   "execution_count": 6,
   "metadata": {
    "collapsed": false
   },
   "outputs": [
    {
     "data": {
      "text/plain": [
       "2984.09270167549"
      ]
     },
     "execution_count": 6,
     "metadata": {
     },
     "output_type": "execute_result"
    }
   ],
   "source": [
    "A.norm()*A.inverse().norm()"
   ]
  },
  {
   "cell_type": "code",
   "execution_count": 7,
   "metadata": {
    "collapsed": false
   },
   "outputs": [
    {
     "data": {
      "text/plain": [
       "(1, 1, 1, 1)"
      ]
     },
     "execution_count": 7,
     "metadata": {
     },
     "output_type": "execute_result"
    }
   ],
   "source": [
    "b = vector([32,23,33,31])\n",
    "x = A.solve_right(b)\n",
    "x"
   ]
  },
  {
   "cell_type": "code",
   "execution_count": 8,
   "metadata": {
    "collapsed": false
   },
   "outputs": [
   ],
   "source": [
    "DA = matrix(4,4,[0.01,-0.01,0.02,0.03, 0,0,0.1,0.02, -0.02,0,0,-0.01, 0,0,0.1,0])\n",
    "db = vector([0.01,-0.01,0,0.02])"
   ]
  },
  {
   "cell_type": "code",
   "execution_count": 10,
   "metadata": {
    "collapsed": false
   },
   "outputs": [
    {
     "data": {
      "text/plain": [
       "(-11.7491044400966, 22.3927907427797, -4.81963106890252, 4.51584200937903)"
      ]
     },
     "execution_count": 10,
     "metadata": {
     },
     "output_type": "execute_result"
    }
   ],
   "source": [
    "(A+DA).solve(b+db)"
   ]
  },
  {
   "cell_type": "markdown",
   "metadata": {
    "collapsed": false
   },
   "source": [
    "### Question :\n",
    "Comment rendre ces deux perturbations aléatoires (perturbation comprise entre -0.01 et 0.02) ?"
   ]
  },
  {
   "cell_type": "code",
   "execution_count": 14,
   "metadata": {
    "collapsed": false
   },
   "outputs": [
    {
     "data": {
      "text/plain": [
       "[9.99000000000000 6.99000000000000 7.92000000000000 7.01000000000000]\n",
       "[7.00000000000000 4.99000000000000 6.00000000000000 5.03000000000000]\n",
       "[7.99000000000000 6.01000000000000 10.0200000000000 9.04000000000000]\n",
       "[7.02000000000000 5.00000000000000 9.00000000000000 10.0100000000000]"
      ]
     },
     "execution_count": 14,
     "metadata": {
     },
     "output_type": "execute_result"
    }
   ],
   "source": [
    "import random\n",
    "A + 0.01*random_matrix(ZZ,4,4)"
   ]
  },
  {
   "cell_type": "code",
   "execution_count": 15,
   "metadata": {
    "collapsed": false
   },
   "outputs": [
    {
     "data": {
      "text/plain": [
       "(32.0068735183810, 23.0001857313602, 32.9912498689971, 30.9998685436741)"
      ]
     },
     "execution_count": 15,
     "metadata": {
     },
     "output_type": "execute_result"
    }
   ],
   "source": [
    "db = vector([32+uniform(-0.01,0.02),23+uniform(-0.01,0.02),33+uniform(-0.01,0.02),31+uniform(-0.01,0.02)])\n",
    "db"
   ]
  },
  {
   "cell_type": "code",
   "execution_count": 16,
   "metadata": {
    "collapsed": false
   },
   "outputs": [
   ],
   "source": [
    "db = b+0.01*random_vector(4)"
   ]
  },
  {
   "cell_type": "code",
   "execution_count": 18,
   "metadata": {
    "collapsed": false
   },
   "outputs": [
    {
     "data": {
      "text/plain": [
       "(-21.7182370631160, 41.7818083580945, -8.76476590261969, 8.48479873651788)"
      ]
     },
     "execution_count": 18,
     "metadata": {
     },
     "output_type": "execute_result"
    }
   ],
   "source": [
    "xdx = (A+DA).solve_right(b+db)\n",
    "xdx"
   ]
  },
  {
   "cell_type": "code",
   "execution_count": 1,
   "metadata": {
    "collapsed": false
   },
   "outputs": [
    {
     "data": {
      "text/plain": [
       "[3 2 1]\n",
       "[1 0 0]\n",
       "[0 0 1]"
      ]
     },
     "execution_count": 1,
     "metadata": {
     },
     "output_type": "execute_result"
    }
   ],
   "source": [
    "A = matrix(3,3, [3,2,1, 1,0,0, 0,0,1])\n",
    "A"
   ]
  },
  {
   "cell_type": "code",
   "execution_count": 2,
   "metadata": {
    "collapsed": false
   },
   "outputs": [
    {
     "data": {
      "text/plain": [
       "(\n",
       "[1 0 0]  [  1   0   0]  [   3    2    1]\n",
       "[0 1 0]  [1/3   1   0]  [   0 -2/3 -1/3]\n",
       "[0 0 1], [  0   0   1], [   0    0    1]\n",
       ")"
      ]
     },
     "execution_count": 2,
     "metadata": {
     },
     "output_type": "execute_result"
    }
   ],
   "source": [
    "A.LU()"
   ]
  },
  {
   "cell_type": "markdown",
   "metadata": {
    "collapsed": false
   },
   "source": [
    "### LU - Cholesky - Jacobi."
   ]
  },
  {
   "cell_type": "code",
   "execution_count": 6,
   "metadata": {
    "collapsed": false
   },
   "outputs": [
   ],
   "source": [
    "A = matrix(4,4, [1,0,6,2, 8,0,-2,-2, 2,9,1,3, 2,1,-3,10])"
   ]
  },
  {
   "cell_type": "code",
   "execution_count": 7,
   "metadata": {
    "collapsed": false
   },
   "outputs": [
    {
     "data": {
      "text/html": [
       "<html><script type=\"math/tex; mode=display\">\\newcommand{\\Bold}[1]{\\mathbf{#1}}\\left(\\begin{array}{rrrr}\n",
       "1 & 0 & 6 & 2 \\\\\n",
       "8 & 0 & -2 & -2 \\\\\n",
       "2 & 9 & 1 & 3 \\\\\n",
       "2 & 1 & -3 & 10\n",
       "\\end{array}\\right)</script></html>"
      ]
     },
     "execution_count": 7,
     "metadata": {
     },
     "output_type": "execute_result"
    }
   ],
   "source": [
    "show(A)"
   ]
  },
  {
   "cell_type": "code",
   "execution_count": 0,
   "metadata": {
    "collapsed": false
   },
   "outputs": [
   ],
   "source": [
    "A.LU()"
   ]
  },
  {
   "cell_type": "code",
   "execution_count": 10,
   "metadata": {
    "collapsed": false
   },
   "outputs": [
   ],
   "source": [
    "S = A.LU()"
   ]
  },
  {
   "cell_type": "code",
   "execution_count": 16,
   "metadata": {
    "collapsed": false
   },
   "outputs": [
    {
     "data": {
      "text/plain": [
       "[ 2  9  1  3]\n",
       "[ 1  0  6  2]\n",
       "[ 8  0 -2 -2]\n",
       "[ 2  1 -3 10]"
      ]
     },
     "execution_count": 16,
     "metadata": {
     },
     "output_type": "execute_result"
    }
   ],
   "source": [
    "S[0]*A"
   ]
  },
  {
   "cell_type": "code",
   "execution_count": 17,
   "metadata": {
    "collapsed": false
   },
   "outputs": [
    {
     "data": {
      "text/plain": [
       "[115/2491 289/2491  -4/2491  36/2491]\n",
       "[-98/2491 -81/4982 285/2491 -74/2491]\n",
       "[364/2491 -55/4982   9/2491 -81/2491]\n",
       "[ 96/2491 -62/2491 -25/2491 225/2491]"
      ]
     },
     "execution_count": 17,
     "metadata": {
     },
     "output_type": "execute_result"
    }
   ],
   "source": [
    "A.inverse()"
   ]
  },
  {
   "cell_type": "code",
   "execution_count": 20,
   "metadata": {
    "collapsed": false
   },
   "outputs": [
   ],
   "source": [
    "#help(A.LU)"
   ]
  },
  {
   "cell_type": "code",
   "execution_count": 21,
   "metadata": {
    "collapsed": false
   },
   "outputs": [
    {
     "data": {
      "text/plain": [
       "[ 2  9  1  3]\n",
       "[ 1  0  6  2]\n",
       "[ 8  0 -2 -2]\n",
       "[ 2  1 -3 10]"
      ]
     },
     "execution_count": 21,
     "metadata": {
     },
     "output_type": "execute_result"
    }
   ],
   "source": [
    "A"
   ]
  },
  {
   "cell_type": "code",
   "execution_count": 23,
   "metadata": {
    "collapsed": false
   },
   "outputs": [
    {
     "data": {
      "text/plain": [
       "[ 1  0  6  2]\n",
       "[ 8  0 -2 -2]\n",
       "[ 2  9  1  3]\n",
       "[ 2  1 -3 10]"
      ]
     },
     "execution_count": 23,
     "metadata": {
     },
     "output_type": "execute_result"
    }
   ],
   "source": [
    "S[0]*S[1]*S[2]"
   ]
  },
  {
   "cell_type": "code",
   "execution_count": 25,
   "metadata": {
    "collapsed": false
   },
   "outputs": [
    {
     "data": {
      "text/plain": [
       "[ 8  0 -2 -2]\n",
       "[ 2  9  1  3]\n",
       "[ 1  0  6  2]\n",
       "[ 2  1 -3 10]"
      ]
     },
     "execution_count": 25,
     "metadata": {
     },
     "output_type": "execute_result"
    }
   ],
   "source": [
    "S[0].inverse()*A"
   ]
  },
  {
   "cell_type": "code",
   "execution_count": 26,
   "metadata": {
    "collapsed": false
   },
   "outputs": [
    {
     "data": {
      "text/plain": [
       "[ 8  0 -2 -2]\n",
       "[ 2  9  1  3]\n",
       "[ 1  0  6  2]\n",
       "[ 2  1 -3 10]"
      ]
     },
     "execution_count": 26,
     "metadata": {
     },
     "output_type": "execute_result"
    }
   ],
   "source": [
    "S[1]*S[2]"
   ]
  },
  {
   "cell_type": "code",
   "execution_count": 2,
   "metadata": {
    "collapsed": false
   },
   "outputs": [
    {
     "data": {
      "text/html": [
       "<html><script type=\"math/tex; mode=display\">\\newcommand{\\Bold}[1]{\\mathbf{#1}}\\left(\\begin{array}{rrrr}\n",
       "1 & \\frac{1}{2} & \\frac{1}{3} & \\frac{1}{4} \\\\\n",
       "\\frac{1}{2} & \\frac{1}{3} & \\frac{1}{4} & \\frac{1}{5} \\\\\n",
       "\\frac{1}{3} & \\frac{1}{4} & \\frac{1}{5} & \\frac{1}{6} \\\\\n",
       "\\frac{1}{4} & \\frac{1}{5} & \\frac{1}{6} & \\frac{1}{7}\n",
       "\\end{array}\\right)</script></html>"
      ]
     },
     "execution_count": 2,
     "metadata": {
     },
     "output_type": "execute_result"
    },
    {
     "data": {
      "text/html": [
       "<html><script type=\"math/tex; mode=display\">\\newcommand{\\Bold}[1]{\\mathbf{#1}}\\left[1, 1, 1, 1\\right]</script></html>"
      ]
     },
     "execution_count": 2,
     "metadata": {
     },
     "output_type": "execute_result"
    },
    {
     "data": {
      "text/plain": [
       "15513.73873893259"
      ]
     },
     "execution_count": 2,
     "metadata": {
     },
     "output_type": "execute_result"
    }
   ],
   "source": [
    "n = 4\n",
    "A = matrix(n,n,[1/(i+j-1) for i in range(1, n+1) for j in range(1, n+1)])\n",
    "b = [1 for i in range(n)]\n",
    "show(A)\n",
    "show(b)\n",
    "norm(A)*norm(A.inverse())"
   ]
  },
  {
   "cell_type": "code",
   "execution_count": 3,
   "metadata": {
    "collapsed": false
   },
   "outputs": [
    {
     "data": {
      "text/plain": [
       "array([  -4.,   60., -180.,  140.])"
      ]
     },
     "execution_count": 3,
     "metadata": {
     },
     "output_type": "execute_result"
    }
   ],
   "source": [
    "import numpy\n",
    "numpy.linalg.solve(A,b)"
   ]
  },
  {
   "cell_type": "code",
   "execution_count": 4,
   "metadata": {
    "collapsed": false
   },
   "outputs": [
    {
     "data": {
      "text/plain": [
       "array([  -1.4,   31.2, -111. ,   95.2])"
      ]
     },
     "execution_count": 4,
     "metadata": {
     },
     "output_type": "execute_result"
    }
   ],
   "source": [
    "b = [1,0.99,1,0.99]\n",
    "numpy.linalg.solve(A,b)"
   ]
  },
  {
   "cell_type": "code",
   "execution_count": 5,
   "metadata": {
    "collapsed": false
   },
   "outputs": [
    {
     "data": {
      "text/plain": [
       "array([ 1.,  1.,  1.,  1.])"
      ]
     },
     "execution_count": 5,
     "metadata": {
     },
     "output_type": "execute_result"
    }
   ],
   "source": [
    "A = matrix(4,4,[7,1,11,10, 2,6,5,2, 8,11,3,8, 6,9,3,6])\n",
    "b = [29,15,30,24]\n",
    "numpy.linalg.solve(A,b)"
   ]
  },
  {
   "cell_type": "code",
   "execution_count": 6,
   "metadata": {
    "collapsed": false
   },
   "outputs": [
    {
     "data": {
      "text/plain": [
       "array([ 6.22222222,  0.13333333,  1.63333333, -3.25555556])"
      ]
     },
     "execution_count": 6,
     "metadata": {
     },
     "output_type": "execute_result"
    }
   ],
   "source": [
    "bprim = [29.1, 14.9, 30.1, 23.9]\n",
    "numpy.linalg.solve(A,bprim)"
   ]
  },
  {
   "cell_type": "code",
   "execution_count": 7,
   "metadata": {
    "collapsed": false
   },
   "outputs": [
    {
     "data": {
      "text/plain": [
       "1424.950271129373"
      ]
     },
     "execution_count": 7,
     "metadata": {
     },
     "output_type": "execute_result"
    }
   ],
   "source": [
    "norm(A)*norm(A.inverse())"
   ]
  },
  {
   "cell_type": "code",
   "execution_count": 20,
   "metadata": {
    "collapsed": false
   },
   "outputs": [
    {
     "data": {
      "text/plain": [
       "[10  7  8  7]\n",
       "[ 7  5  6  5]\n",
       "[ 8  6 10  9]\n",
       "[ 7  5  9 10]"
      ]
     },
     "execution_count": 20,
     "metadata": {
     },
     "output_type": "execute_result"
    }
   ],
   "source": [
    "A = matrix(4,4, [10,7,8,7, 7,5,6,5, 8,6,10,9, 7,5,9,10])\n",
    "A"
   ]
  },
  {
   "cell_type": "code",
   "execution_count": 21,
   "metadata": {
    "collapsed": false
   },
   "outputs": [
    {
     "data": {
      "text/plain": [
       "2984.09270167549"
      ]
     },
     "execution_count": 21,
     "metadata": {
     },
     "output_type": "execute_result"
    }
   ],
   "source": [
    "norm(A)*norm(A.inverse())"
   ]
  },
  {
   "cell_type": "code",
   "execution_count": 22,
   "metadata": {
    "collapsed": false
   },
   "outputs": [
    {
     "data": {
      "text/plain": [
       "[1/10    0    0    0]\n",
       "[   0  1/5    0    0]\n",
       "[   0    0 1/10    0]\n",
       "[   0    0    0 1/10]"
      ]
     },
     "execution_count": 22,
     "metadata": {
     },
     "output_type": "execute_result"
    }
   ],
   "source": [
    "C = diagonal_matrix([1/10,1/5,1/10,1/10])\n",
    "C"
   ]
  },
  {
   "cell_type": "code",
   "execution_count": 23,
   "metadata": {
    "collapsed": false
   },
   "outputs": [
    {
     "data": {
      "text/plain": [
       "[   1 7/10  4/5 7/10]\n",
       "[ 7/5    1  6/5    1]\n",
       "[ 4/5  3/5    1 9/10]\n",
       "[7/10  1/2 9/10    1]"
      ]
     },
     "execution_count": 23,
     "metadata": {
     },
     "output_type": "execute_result"
    }
   ],
   "source": [
    "Ap = C*A\n",
    "Ap"
   ]
  },
  {
   "cell_type": "code",
   "execution_count": 24,
   "metadata": {
    "collapsed": false
   },
   "outputs": [
    {
     "data": {
      "text/plain": [
       "2484.760853054217"
      ]
     },
     "execution_count": 24,
     "metadata": {
     },
     "output_type": "execute_result"
    }
   ],
   "source": [
    "norm(Ap)*norm(Ap.inverse())"
   ]
  },
  {
   "cell_type": "code",
   "execution_count": 26,
   "metadata": {
    "collapsed": false
   },
   "outputs": [
    {
     "data": {
      "text/plain": [
       "(\n",
       "[1 0 0 0]  [   1    0    0    0]  [  10    7    8    7]\n",
       "[0 0 0 1]  [ 4/5    1    0    0]  [   0  2/5 18/5 17/5]\n",
       "[0 1 0 0]  [7/10  1/4    1    0]  [   0    0  5/2 17/4]\n",
       "[0 0 1 0], [7/10  1/4 -1/5    1], [   0    0    0 1/10]\n",
       ")"
      ]
     },
     "execution_count": 26,
     "metadata": {
     },
     "output_type": "execute_result"
    }
   ],
   "source": [
    "A.LU()"
   ]
  },
  {
   "cell_type": "markdown",
   "metadata": {
    "collapsed": false
   },
   "source": [
    "### Exercice.\n",
    "Ecrire un algorithme qui permet de factoriser A en L et U. E déduire la complexité de ce calcul en fonction de la taille de A."
   ]
  },
  {
   "cell_type": "code",
   "execution_count": 0,
   "metadata": {
    "collapsed": false
   },
   "outputs": [
   ],
   "source": [
   ]
  },
  {
   "cell_type": "code",
   "execution_count": 9,
   "metadata": {
    "collapsed": false
   },
   "outputs": [
    {
     "data": {
      "text/plain": [
       "False"
      ]
     },
     "execution_count": 9,
     "metadata": {
     },
     "output_type": "execute_result"
    }
   ],
   "source": [
    "A.is_symmetric()"
   ]
  },
  {
   "cell_type": "code",
   "execution_count": 10,
   "metadata": {
    "collapsed": false
   },
   "outputs": [
    {
     "data": {
      "text/plain": [
       "False"
      ]
     },
     "execution_count": 10,
     "metadata": {
     },
     "output_type": "execute_result"
    }
   ],
   "source": [
    "A.is_positive_definite()"
   ]
  },
  {
   "cell_type": "code",
   "execution_count": 13,
   "metadata": {
    "collapsed": false
   },
   "outputs": [
   ],
   "source": [
    "#A.cholesky()"
   ]
  },
  {
   "cell_type": "code",
   "execution_count": 14,
   "metadata": {
    "collapsed": false
   },
   "outputs": [
    {
     "data": {
      "text/html": [
       "<html><script type=\"math/tex; mode=display\">\\newcommand{\\Bold}[1]{\\mathbf{#1}}\\left(\\begin{array}{rrrrr}\n",
       "0 & 0 & 0 & 0 & 1 \\\\\n",
       "1 & 1 & 1 & 1 & 1 \\\\\n",
       "16 & 8 & 4 & 2 & 1 \\\\\n",
       "81 & 27 & 9 & 3 & 1 \\\\\n",
       "256 & 64 & 16 & 4 & 1\n",
       "\\end{array}\\right)</script></html>"
      ]
     },
     "execution_count": 14,
     "metadata": {
     },
     "output_type": "execute_result"
    }
   ],
   "source": [
    "R = matrix(QQ, 5,5, [ 0,0,0,0,1, 1,1,1,1,1, 16,8,4,2,1, 81,27,9,3,1, 256,64,16,4,1 ])\n",
    "show(R)"
   ]
  },
  {
   "cell_type": "code",
   "execution_count": 15,
   "metadata": {
    "collapsed": false
   },
   "outputs": [
    {
     "data": {
      "text/plain": [
       "\\left(\\begin{array}{rrrrr}\n",
       "1 & 1 & 1 & 1 & 1 \\\\\n",
       "1 & 5 & 31 & 121 & 341 \\\\\n",
       "1 & 31 & 341 & 1555 & 4681 \\\\\n",
       "1 & 121 & 1555 & 7381 & 22621 \\\\\n",
       "1 & 341 & 4681 & 22621 & 69905\n",
       "\\end{array}\\right)"
      ]
     },
     "execution_count": 15,
     "metadata": {
     },
     "output_type": "execute_result"
    }
   ],
   "source": [
    "A = R*transpose(R)\n",
    "latex(A)"
   ]
  },
  {
   "cell_type": "code",
   "execution_count": 16,
   "metadata": {
    "collapsed": false
   },
   "outputs": [
    {
     "data": {
      "text/plain": [
       "[                 1                  0                  0                  0                  0]\n",
       "[                 1                  2                  0                  0                  0]\n",
       "[                 1                 15 10.72380529476361?                  0                  0]\n",
       "[                 1                 60 60.98581445891652? 7.792973423707327?                  0]\n",
       "[                 1                170 198.6235241551869? 39.36656677955248? 1.723099580682572?]"
      ]
     },
     "execution_count": 16,
     "metadata": {
     },
     "output_type": "execute_result"
    }
   ],
   "source": [
    "u = A.cholesky()\n",
    "u"
   ]
  },
  {
   "cell_type": "code",
   "execution_count": 17,
   "metadata": {
    "collapsed": false
   },
   "outputs": [
    {
     "data": {
      "text/plain": [
       "[                 1                  1                  1                  1                  1]\n",
       "[                 1                  5                 31                121                341]\n",
       "[                 1                 31 341.0000000000000? 1555.000000000000? 4681.000000000000?]\n",
       "[                 1                121 1555.000000000000? 7381.000000000000? 22621.00000000000?]\n",
       "[                 1                341 4681.000000000000? 22621.00000000000?  69905.0000000000?]"
      ]
     },
     "execution_count": 17,
     "metadata": {
     },
     "output_type": "execute_result"
    }
   ],
   "source": [
    "u*transpose(u)"
   ]
  },
  {
   "cell_type": "code",
   "execution_count": 36,
   "metadata": {
    "collapsed": false
   },
   "outputs": [
   ],
   "source": [
    "def cholesky(A):\n",
    "    if A.is_square()==False:\n",
    "        return(\"la marice A n est pas carre\")\n",
    "    if A.is_symmetric()==False:\n",
    "        return(\"la marice A n est pas symetrique\")\n",
    "    if A.is_positive_definite()==False:\n",
    "        return(\"la marice A n est pas definie positive\")\n",
    "    n = A.ncols()\n",
    "    R = matrix(RR,n,n)\n",
    "    R[0,0] = sqrt(A[0,0])\n",
    "    for i in range(1,n):\n",
    "        for j in range(i):\n",
    "            R[i,j] = 1/R[j,j]*(A[i,j]-add([R[i,k]*R[j,k] for k in range(j)]))\n",
    "        R[i,i] = sqrt(A[i,i]-add([R[i,k]^2 for k in range(i)])) \n",
    "    print R*transpose(R)   \n",
    "    return(R)"
   ]
  },
  {
   "cell_type": "code",
   "execution_count": 0,
   "metadata": {
    "collapsed": false
   },
   "outputs": [
   ],
   "source": [
    "RealField?"
   ]
  },
  {
   "cell_type": "code",
   "execution_count": 37,
   "metadata": {
    "collapsed": false
   },
   "outputs": [
    {
     "name": "stdout",
     "output_type": "stream",
     "text": [
      "[1.00000000000000 1.00000000000000 1.00000000000000]\n",
      "[1.00000000000000 3.00000000000000 7.00000000000000]\n",
      "[1.00000000000000 7.00000000000000 21.0000000000000]\n"
     ]
    },
    {
     "data": {
      "text/plain": [
       "[ 1.00000000000000 0.000000000000000 0.000000000000000]\n",
       "[ 1.00000000000000  1.41421356237310 0.000000000000000]\n",
       "[ 1.00000000000000  4.24264068711928  1.41421356237310]"
      ]
     },
     "execution_count": 37,
     "metadata": {
     },
     "output_type": "execute_result"
    }
   ],
   "source": [
    "A = matrix(3,3,[1,1,1, 1,3,7, 1,7,21])\n",
    "cholesky(A)"
   ]
  },
  {
   "cell_type": "code",
   "execution_count": 8,
   "metadata": {
    "collapsed": false
   },
   "outputs": [
    {
     "data": {
      "text/plain": [
       "[1 2 3]\n",
       "[2 3 4]\n",
       "[3 4 5]"
      ]
     },
     "execution_count": 8,
     "metadata": {
     },
     "output_type": "execute_result"
    }
   ],
   "source": [
    "A = matrix(3,3,[i+j+1 for i in range(3) for j in range(3)])\n",
    "A"
   ]
  },
  {
   "cell_type": "code",
   "execution_count": 9,
   "metadata": {
    "collapsed": false
   },
   "outputs": [
    {
     "data": {
      "text/plain": [
       "[0, -0.623475382979800?, 9.623475382979799?]"
      ]
     },
     "execution_count": 9,
     "metadata": {
     },
     "output_type": "execute_result"
    }
   ],
   "source": [
    "A.eigenvalues()"
   ]
  },
  {
   "cell_type": "markdown",
   "metadata": {
    "collapsed": false
   },
   "source": [
    "### Méthodes itératives\n",
    "\n",
    "Il s’agit de résoudre un système d’équation linéaires par les méthodes développées précédemment (LU, Cholesky, Jacobi, Gradient conjugué).\n",
    "1. Ecrire les algorithmes de descentes puis de remontée appliqués à des matrices triangulaires (respectivement inférieures et supérieures)\n",
    "\n",
    "2. Résoudre le système d’équations linéaires Ax = b avec $A=$ et $b=$.\n",
    "    1. Vérifiez que A est symétrique définie-positive.\n",
    "    2. Calculez la factorisation de Cholesky de A puis résoudre le système $Ax = b$.\n",
    "\n",
    "3. La méthode de Jacobi consiste à calculer la suite $x_{k+1} = Jx_k +D^{-1}b$ avec $J = I_n -D^{-1}A$ et $D$ la matrice diagonale contenant les éléments de la diagonale de $A$. Appliquez la méthode de Jacobi, en partant de $x0=(2,2,2)$. Vous remarquerez que $x_2 = x^*$ la\n",
    "solution du système $Ax = b$.\n",
    "\n",
    "4. Résoudre le système $Ax = b$ grâce à la factorisaton de Cholesky puis grâce à la méthode de Jacobi, avec $x_0=(2,2,2)$."
   ]
  },
  {
   "cell_type": "code",
   "execution_count": 29,
   "metadata": {
    "collapsed": false
   },
   "outputs": [
   ],
   "source": [
    "A = matrix(2,2,[2,-1,-1,2])"
   ]
  },
  {
   "cell_type": "code",
   "execution_count": 30,
   "metadata": {
    "collapsed": false
   },
   "outputs": [
   ],
   "source": [
    "b = vector([1,1])"
   ]
  },
  {
   "cell_type": "code",
   "execution_count": 31,
   "metadata": {
    "collapsed": false
   },
   "outputs": [
    {
     "data": {
      "text/plain": [
       "[2, 2]"
      ]
     },
     "execution_count": 31,
     "metadata": {
     },
     "output_type": "execute_result"
    }
   ],
   "source": [
    "A.diagonal()"
   ]
  },
  {
   "cell_type": "code",
   "execution_count": 32,
   "metadata": {
    "collapsed": false
   },
   "outputs": [
   ],
   "source": [
    "D = diagonal_matrix(A.diagonal())"
   ]
  },
  {
   "cell_type": "code",
   "execution_count": 33,
   "metadata": {
    "collapsed": false
   },
   "outputs": [
   ],
   "source": [
    "J = identity_matrix(2)-D.inverse()*A"
   ]
  },
  {
   "cell_type": "code",
   "execution_count": 34,
   "metadata": {
    "collapsed": false
   },
   "outputs": [
    {
     "data": {
      "text/plain": [
       "(1/2, 1/2)"
      ]
     },
     "execution_count": 34,
     "metadata": {
     },
     "output_type": "execute_result"
    }
   ],
   "source": [
    "x0 = vector([0,0])\n",
    "J*x0 + D.inverse()*b"
   ]
  },
  {
   "cell_type": "code",
   "execution_count": 35,
   "metadata": {
    "collapsed": false
   },
   "outputs": [
    {
     "name": "stdout",
     "output_type": "stream",
     "text": [
      "(0.968750000000000, 0.968750000000000)\n"
     ]
    }
   ],
   "source": [
    "for i in range(5):\n",
    "    x1 = J*x0 + D.inverse()*b\n",
    "    x0 = x1.n()\n",
    "print(x1)"
   ]
  },
  {
   "cell_type": "code",
   "execution_count": 27,
   "metadata": {
    "collapsed": false
   },
   "outputs": [
    {
     "data": {
      "text/plain": [
       "(1, 1)"
      ]
     },
     "execution_count": 27,
     "metadata": {
     },
     "output_type": "execute_result"
    }
   ],
   "source": [
    "A.solve_left(b)"
   ]
  },
  {
   "cell_type": "code",
   "execution_count": 28,
   "metadata": {
    "collapsed": false
   },
   "outputs": [
    {
     "data": {
      "text/plain": [
       "[1/2, -1/2]"
      ]
     },
     "execution_count": 28,
     "metadata": {
     },
     "output_type": "execute_result"
    }
   ],
   "source": [
    "J.eigenvalues()"
   ]
  },
  {
   "cell_type": "code",
   "execution_count": 0,
   "metadata": {
    "collapsed": false
   },
   "outputs": [
   ],
   "source": [
   ]
  }
 ],
 "metadata": {
  "celltoolbar": "Raw Cell Format",
  "kernelspec": {
   "display_name": "SageMath (stable)",
   "language": "sagemath",
   "name": "sagemath"
  },
  "language_info": {
   "codemirror_mode": {
    "name": "ipython",
    "version": 2
   },
   "file_extension": ".py",
   "mimetype": "text/x-python",
   "name": "python",
   "nbconvert_exporter": "python",
   "pygments_lexer": "ipython2",
   "version": "2.7.15"
  }
 },
 "nbformat": 4,
 "nbformat_minor": 0
}