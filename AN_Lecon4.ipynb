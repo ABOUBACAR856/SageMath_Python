{
 "cells": [
  {
   "cell_type": "code",
   "execution_count": 66,
   "metadata": {
    "collapsed": false
   },
   "outputs": [
   ],
   "source": [
   ]
  },
  {
   "cell_type": "markdown",
   "metadata": {
    "collapsed": false
   },
   "source": [
    "Calculs inexacts en algèbre linéaire"
   ]
  },
  {
   "cell_type": "code",
   "execution_count": 1,
   "metadata": {
    "collapsed": false
   },
   "outputs": [
   ],
   "source": [
    "def cond_hilbert(n): \n",
    "    A = matrix(QQ, [[1/(i+j-1) for j in [1..n]] for i in [1..n]])\n",
    "    return A.norm(Infinity) * (A^-1).norm(Infinity)"
   ]
  },
  {
   "cell_type": "code",
   "execution_count": 5,
   "metadata": {
    "collapsed": false
   },
   "outputs": [
    {
     "name": "stdout",
     "output_type": "stream",
     "text": [
      "(2, 27.0)\n",
      "(3, 748.0)\n",
      "(4, 28374.999999999996)\n",
      "(5, 943656.0)\n"
     ]
    }
   ],
   "source": [
    "for n in range(2,6):\n",
    "    print(n, cond_hilbert(n))"
   ]
  },
  {
   "cell_type": "code",
   "execution_count": 8,
   "metadata": {
    "collapsed": false
   },
   "outputs": [
   ],
   "source": [
    "def erreur_diff(n):     \n",
    "    x = vector(QQ,[1 for i in range(0,n)]) \n",
    "    A = matrix(QQ, [[1/(i+j-1) for j in [1..n]] for i in [1..n]])\n",
    "    y = A*x \n",
    "    A[n-1,n-1] = (1/(2*n-1))*(1+1/(10^5)) # perturbe la matrice \n",
    "    sol = A\\y \n",
    "    diff = max(float(sol[i]-x[i]) for i in range(0,n))\n",
    "    return(diff)"
   ]
  },
  {
   "cell_type": "code",
   "execution_count": 12,
   "metadata": {
    "collapsed": false
   },
   "outputs": [
    {
     "name": "stdout",
     "output_type": "stream",
     "text": [
      "(4, 0.00597609561752988)\n",
      "(8, 3.470535307793226)\n",
      "(12, 17.6785678760495)\n",
      "(16, 63.281609195139296)\n",
      "(20, 269.3745173745173)\n",
      "(24, 1122.8830260918887)\n",
      "(28, 4452.822062787379)\n",
      "(32, 20034.347742129325)\n"
     ]
    }
   ],
   "source": [
    "for n in range(4,36,4):\n",
    "    print(n, erreur_diff(n))"
   ]
  },
  {
   "cell_type": "code",
   "execution_count": 13,
   "metadata": {
    "collapsed": false
   },
   "outputs": [
   ],
   "source": [
    "n = 8 \n",
    "A = matrix(RR, [[1/(i+j-1) for j in [1..n]] for i in [1..n]]) \n",
    "x = vector(RR, [1 for i in range(0,n)]) \n",
    "y = A*x \n",
    "s = A.solve_right(y) \n",
    "diff = [float(s[i]-x[i]) for i in range(0,n)]"
   ]
  },
  {
   "cell_type": "markdown",
   "metadata": {
    "collapsed": false
   },
   "source": [
    "Matrices pleines"
   ]
  },
  {
   "cell_type": "code",
   "execution_count": 14,
   "metadata": {
    "collapsed": false
   },
   "outputs": [
    {
     "data": {
      "text/plain": [
       "51090942171709440000"
      ]
     },
     "execution_count": 14,
     "metadata": {
     },
     "output_type": "execute_result"
    }
   ],
   "source": [
    "n = 20; cout = (n+1)*factorial(n); cout"
   ]
  },
  {
   "cell_type": "code",
   "execution_count": 15,
   "metadata": {
    "collapsed": false
   },
   "outputs": [
    {
     "name": "stdout",
     "output_type": "stream",
     "text": [
      "540.028\n"
     ]
    }
   ],
   "source": [
    "v = 3*10^9\n",
    "print \"%3.3f\"%float(cout/v/3600/24/365)"
   ]
  },
  {
   "cell_type": "code",
   "execution_count": 16,
   "metadata": {
    "collapsed": false
   },
   "outputs": [
    {
     "data": {
      "text/plain": [
       "(-0.20000000000000018, 0.9000000000000001)"
      ]
     },
     "execution_count": 16,
     "metadata": {
     },
     "output_type": "execute_result"
    }
   ],
   "source": [
    "A = matrix(RDF, [[-1,2],[3,4]]) \n",
    "b = vector(RDF, [2,3]) \n",
    "x = A\\b; x"
   ]
  },
  {
   "cell_type": "code",
   "execution_count": 17,
   "metadata": {
    "collapsed": false
   },
   "outputs": [
   ],
   "source": [
    "x = A.solve_right(b)"
   ]
  },
  {
   "cell_type": "code",
   "execution_count": 18,
   "metadata": {
    "collapsed": false
   },
   "outputs": [
   ],
   "source": [
    "A = matrix(RDF, [[-1,2],[3,4]]) \n",
    "P, L, U = A.LU()"
   ]
  },
  {
   "cell_type": "code",
   "execution_count": 19,
   "metadata": {
    "collapsed": false
   },
   "outputs": [
   ],
   "source": [
    "A = random_matrix(RDF, 1000) \n",
    "b = vector(RDF, range(1000))"
   ]
  },
  {
   "cell_type": "code",
   "execution_count": 20,
   "metadata": {
    "collapsed": false
   },
   "outputs": [
    {
     "name": "stdout",
     "output_type": "stream",
     "text": [
      "CPU times: user 44 ms, sys: 20 ms, total: 64 ms\n",
      "Wall time: 65.9 ms\n"
     ]
    },
    {
     "data": {
      "text/plain": [
       "(1000 x 1000 dense matrix over Real Double Field,\n",
       " 1000 x 1000 dense matrix over Real Double Field,\n",
       " 1000 x 1000 dense matrix over Real Double Field)"
      ]
     },
     "execution_count": 20,
     "metadata": {
     },
     "output_type": "execute_result"
    }
   ],
   "source": [
    "%time A.LU()"
   ]
  },
  {
   "cell_type": "code",
   "execution_count": 21,
   "metadata": {
    "collapsed": false
   },
   "outputs": [
    {
     "name": "stdout",
     "output_type": "stream",
     "text": [
      "CPU times: user 36 ms, sys: 4 ms, total: 40 ms\n",
      "Wall time: 39.3 ms\n"
     ]
    }
   ],
   "source": [
    "%time x = A.solve_right(b)"
   ]
  },
  {
   "cell_type": "code",
   "execution_count": 22,
   "metadata": {
    "collapsed": false
   },
   "outputs": [
   ],
   "source": [
    "m = random_matrix(RDF, 10) \n",
    "A = transpose(m)*m \n",
    "C = A.cholesky()"
   ]
  },
  {
   "cell_type": "code",
   "execution_count": 23,
   "metadata": {
    "collapsed": false
   },
   "outputs": [
   ],
   "source": [
    "A = random_matrix(RDF,6,5) \n",
    "Q, R = A.QR()"
   ]
  },
  {
   "cell_type": "code",
   "execution_count": 24,
   "metadata": {
    "collapsed": false
   },
   "outputs": [
    {
     "data": {
      "text/plain": [
       "[ 2.220446049250313e-16                    0.0 -4.440892098500626e-16]\n",
       "[3.3306690738754696e-16 -4.440892098500626e-16 -4.440892098500626e-16]\n",
       "[-9.457978716560331e-16 1.7763568394002505e-15 -4.440892098500626e-16]\n",
       "[ 4.440892098500626e-16 -8.881784197001252e-16 -4.440892098500626e-16]"
      ]
     },
     "execution_count": 24,
     "metadata": {
     },
     "output_type": "execute_result"
    }
   ],
   "source": [
    "A = matrix(RDF, [[1,3,2],[1,2,3],[0,5,2],[1,1,1]]) \n",
    "U, Sig, V = A.SVD() \n",
    "A1 = A - U*Sig*transpose(V); A1"
   ]
  },
  {
   "cell_type": "code",
   "execution_count": 0,
   "metadata": {
    "collapsed": false
   },
   "outputs": [
   ],
   "source": [
    "A = matrix(RDF, [[1,3,2],[1,4,2],[0,5,2],[1,3,2]]) \n",
    "b = vector(RDF, [1,2,3,4]) \n",
    "Z = transpose(A)*A \n",
    "C = Z.cholesky()\n",
    "R = transpose(A)*b \n",
    "Z.solve_right(R)"
   ]
  },
  {
   "cell_type": "code",
   "execution_count": 25,
   "metadata": {
    "collapsed": false
   },
   "outputs": [
    {
     "data": {
      "text/plain": [
       "(-1.499999999999999, -0.49999999999999867, 2.749999999999997)"
      ]
     },
     "execution_count": 25,
     "metadata": {
     },
     "output_type": "execute_result"
    }
   ],
   "source": [
    "A = matrix(RDF, [[1,3,2],[1,4,2],[0,5,2],[1,3,2]]) \n",
    "b = vector(RDF, [1,2,3,4]) \n",
    "Q, R = A.QR() \n",
    "R1 = R[0:3,0:3]\n",
    "b1 = transpose(Q)*b \n",
    "c = b1[0:3]\n",
    "R1.solve_right(c)"
   ]
  },
  {
   "cell_type": "code",
   "execution_count": 26,
   "metadata": {
    "collapsed": false
   },
   "outputs": [
    {
     "data": {
      "text/plain": [
       "1992.3750000000168"
      ]
     },
     "execution_count": 26,
     "metadata": {
     },
     "output_type": "execute_result"
    }
   ],
   "source": [
    "Z = A.transpose()*A \n",
    "Z.norm(Infinity)*(Z^-1).norm(Infinity)"
   ]
  },
  {
   "cell_type": "code",
   "execution_count": 27,
   "metadata": {
    "collapsed": false
   },
   "outputs": [
   ],
   "source": [
    "A = matrix(RDF, [[1,3,2],[1,3,2],[0,5,2],[1,3,2]]) \n",
    "b = vector(RDF, [1,2,3,4])\n",
    "U, Sig, V = A.SVD() \n",
    "m = A.ncols()\n",
    "x = vector(RDF, [0]*m) \n",
    "lamb = vector(RDF, [0]*m)"
   ]
  },
  {
   "cell_type": "code",
   "execution_count": 28,
   "metadata": {
    "collapsed": false
   },
   "outputs": [
    {
     "data": {
      "text/plain": [
       "(0.2370370370370367, 0.4518518518518521, 0.3703703703703702)"
      ]
     },
     "execution_count": 28,
     "metadata": {
     },
     "output_type": "execute_result"
    }
   ],
   "source": [
    "for i in range(0,m): \n",
    "    s = Sig[i,i]\n",
    "    if s < 1e-12: \n",
    "        break\n",
    "    lamb[i] = U.column(i)*b / s \n",
    "x = V*lamb; x"
   ]
  },
  {
   "cell_type": "code",
   "execution_count": 29,
   "metadata": {
    "collapsed": false
   },
   "outputs": [
    {
     "data": {
      "text/plain": [
       "[8.309316833256451, 1.3983038884881154, 0.0]"
      ]
     },
     "execution_count": 29,
     "metadata": {
     },
     "output_type": "execute_result"
    }
   ],
   "source": [
    "m = 3 \n",
    "[ Sig[i,i] for i in range(0,m) ]"
   ]
  },
  {
   "cell_type": "code",
   "execution_count": 30,
   "metadata": {
    "collapsed": false
   },
   "outputs": [
   ],
   "source": [
    "A = matrix(RDF, [[1,2],[3,4],[5,6],[7,8]])"
   ]
  },
  {
   "cell_type": "code",
   "execution_count": 31,
   "metadata": {
    "collapsed": false
   },
   "outputs": [
   ],
   "source": [
    "th = 0.7 \n",
    "R = matrix(RDF, [[cos(th),sin(th)],[-sin(th),cos(th)]]) \n",
    "B = (A + 0.1*random_matrix(RDF,4,2)) * transpose(R)"
   ]
  },
  {
   "cell_type": "code",
   "execution_count": 32,
   "metadata": {
    "collapsed": false
   },
   "outputs": [
   ],
   "source": [
    "C = transpose(B)*A \n",
    "U, Sigma, V = C.SVD() \n",
    "Q = U*transpose(V)"
   ]
  },
  {
   "cell_type": "code",
   "execution_count": 33,
   "metadata": {
    "collapsed": false
   },
   "outputs": [
    {
     "data": {
      "text/plain": [
       "[0.7657221742194118 0.6431714793961997]\n",
       "[  -0.6431714793962  0.765722174219412]"
      ]
     },
     "execution_count": 33,
     "metadata": {
     },
     "output_type": "execute_result"
    }
   ],
   "source": [
    "Q"
   ]
  },
  {
   "cell_type": "code",
   "execution_count": 34,
   "metadata": {
    "collapsed": false
   },
   "outputs": [
    {
     "data": {
      "text/plain": [
       "[0.7648421872844885  0.644217687237691]\n",
       "[-0.644217687237691 0.7648421872844885]"
      ]
     },
     "execution_count": 34,
     "metadata": {
     },
     "output_type": "execute_result"
    }
   ],
   "source": [
    "R"
   ]
  },
  {
   "cell_type": "code",
   "execution_count": 36,
   "metadata": {
    "collapsed": false
   },
   "outputs": [
    {
     "name": "stdout",
     "output_type": "stream",
     "text": [
      "0 \ts= 2.33042955065 \tlambda= 17.4188386771\n",
      "1 \ts= 0.223510705141 \tlambda= 6.82639359114\n",
      "2 \ts= 0.251574387277 \tlambda= 7.65976606259\n",
      "3 \ts= 0.237922762246 \tlambda= 8.68290995435\n",
      "4 \ts= 0.181905605835 \tlambda= 9.51183807692\n",
      "5 \ts= 0.121454839122 \tlambda= 9.96788766713\n",
      "6 \ts= 0.076062246562 \tlambda= 10.165700015\n",
      "7 \ts= 0.0464398640208 \tlambda= 10.2424757184\n",
      "8 \ts= 0.0281007885849 \tlambda= 10.2709973224\n",
      "9 \ts= 0.0169589267465 \tlambda= 10.2814323943\n",
      "10 \ts= 0.0102317593631 \tlambda= 10.2852338669\n",
      "11 \ts= 0.00617661534085 \tlambda= 10.2866184292\n",
      "12 \ts= 0.00373197899726 \tlambda= 10.2871233586\n",
      "13 \ts= 0.00225719721387 \tlambda= 10.2873078387\n",
      "14 \ts= 0.00136666504831 \tlambda= 10.2873753789\n",
      "15 \ts= 0.000828370074987 \tlambda= 10.287400159\n",
      "16 \ts= 0.000502640940788 \tlambda= 10.2874092703\n",
      "17 \ts= 0.00030532361666 \tlambda= 10.2874126278\n",
      "18 \ts= 0.000185663891307 \tlambda= 10.2874138676\n",
      "19 \ts= 0.000113019231673 \tlambda= 10.2874143264\n",
      "20 \ts= 6.88694449149e-05 \tlambda= 10.2874144966\n",
      "21 \ts= 4.20087677551e-05 \tlambda= 10.2874145598\n",
      "22 \ts= 2.56496074526e-05 \tlambda= 10.2874145833\n",
      "23 \ts= 1.56760230541e-05 \tlambda= 10.2874145921\n",
      "24 \ts= 9.58939683646e-06 \tlambda= 10.2874145954\n",
      "25 \ts= 5.87126680414e-06 \tlambda= 10.2874145966\n",
      "26 \ts= 3.59783817838e-06 \tlambda= 10.2874145971\n",
      "27 \ts= 2.2065020157e-06 \tlambda= 10.2874145973\n",
      "28 \ts= 1.35426347408e-06 \tlambda= 10.2874145973\n",
      "29 \ts= 8.31804343561e-07 \tlambda= 10.2874145974\n",
      "30 \ts= 5.11259507685e-07 \tlambda= 10.2874145974\n",
      "31 \ts= 3.14446617967e-07 \tlambda= 10.2874145974\n",
      "32 \ts= 1.93517895582e-07 \tlambda= 10.2874145974\n",
      "33 \ts= 1.19164724778e-07 \tlambda= 10.2874145974\n",
      "34 \ts= 7.34193970022e-08 \tlambda= 10.2874145974\n",
      "35 \ts= 4.52579714454e-08 \tlambda= 10.2874145974\n",
      "36 \ts= 2.79116658033e-08 \tlambda= 10.2874145974\n",
      "37 \ts= 1.72214088871e-08 \tlambda= 10.2874145974\n",
      "38 \ts= 1.06299288718e-08 \tlambda= 10.2874145974\n",
      "39 \ts= 6.56383959767e-09 \tlambda= 10.2874145974\n",
      "40 \ts= 4.05451907413e-09 \tlambda= 10.2874145974\n",
      "41 \ts= 2.50531934311e-09 \tlambda= 10.2874145974\n",
      "42 \ts= 1.54852565915e-09 \tlambda= 10.2874145974\n",
      "43 \ts= 9.57403779492e-10 \tlambda= 10.2874145974\n",
      "44 \ts= 5.92084784265e-10 \tlambda= 10.2874145974\n",
      "45 \ts= 3.66248573738e-10 \tlambda= 10.2874145974\n",
      "46 \ts= 2.26601460919e-10 \tlambda= 10.2874145974\n",
      "47 \ts= 1.40228751669e-10 \tlambda= 10.2874145974\n",
      "48 \ts= 8.67942903746e-11 \tlambda= 10.2874145974\n"
     ]
    }
   ],
   "source": [
    "n = 10 \n",
    "A = random_matrix(RDF, n); \n",
    "A = A*transpose(A) # A vérifie (presque sûrement) les hypothèses\n",
    "x = vector(RDF, [1 for i in range(0,n)]) \n",
    "for i in range(0,1000): \n",
    "    y = A*x \n",
    "    z = y/y.norm()\n",
    "    lam = z*y \n",
    "    s = (x-z).norm() \n",
    "    print i, \"\\ts=\", s, \"\\tlambda=\", lam \n",
    "    if s < 1e-10: break \n",
    "    x=z"
   ]
  },
  {
   "cell_type": "code",
   "execution_count": 37,
   "metadata": {
    "collapsed": false
   },
   "outputs": [
    {
     "data": {
      "text/plain": [
       "[10.28741459736515,\n",
       " 6.379993918252768,\n",
       " 6.08897600855732,\n",
       " 4.540487995305153,\n",
       " 2.8495562316799603,\n",
       " 2.126894392768425,\n",
       " 0.8841097423675887,\n",
       " 0.5422909517857157,\n",
       " 0.020289414533476543,\n",
       " 0.09961443962273524]"
      ]
     },
     "execution_count": 37,
     "metadata": {
     },
     "output_type": "execute_result"
    }
   ],
   "source": [
    "A.eigenvalues()"
   ]
  },
  {
   "cell_type": "code",
   "execution_count": 38,
   "metadata": {
    "collapsed": false
   },
   "outputs": [
   ],
   "source": [
    "A = matrix(RDF, [[1,3,2],[1,2,3],[0,5,2]])"
   ]
  },
  {
   "cell_type": "code",
   "execution_count": 39,
   "metadata": {
    "collapsed": false
   },
   "outputs": [
    {
     "name": "stdout",
     "output_type": "stream",
     "text": [
      "(0.9607985552565431, 0.18570664546988727, -0.2058620364352333) 1.08914936279\n",
      "(0.927972943625375, 0.1044861051800865, -0.3576994125289455) 0.563839629189\n",
      "(0.9276916133832703, 0.10329827357690813, -0.35877254233619243) 0.560558807639\n",
      "(0.9276845318283404, 0.10329496332009931, -0.35879180586954856) 0.560519659839\n",
      "(0.9276845648427788, 0.1032947552966817, -0.3587917803972978) 0.560519482021\n",
      "(0.9276845629124328, 0.10329475732310033, -0.3587917848049623) 0.560519476073\n",
      "(0.9276845629447148, 0.10329475725254855, -0.3587917847418061) 0.560519476114\n",
      "(0.9276845629438836, 0.1032947572539018, -0.3587917847435661) 0.560519476112\n",
      "(0.9276845629439012, 0.10329475725386913, -0.35879178474352963) 0.560519476112\n"
     ]
    }
   ],
   "source": [
    "mu = 0.50519 \n",
    "AT = A - mu*identity_matrix(RDF, 3) \n",
    "x = vector(RDF, [1 for i in range(0,A.nrows())]) \n",
    "P, L, U = AT.LU() \n",
    "for i in range(1,10):\n",
    "    y = AT.solve_right(x) \n",
    "    x = y/y.norm() \n",
    "    lamb = x*A*x \n",
    "    print x, lamb"
   ]
  },
  {
   "cell_type": "code",
   "execution_count": 40,
   "metadata": {
    "collapsed": false
   },
   "outputs": [
    {
     "name": "stdout",
     "output_type": "stream",
     "text": [
      "[    347.58031    -222.89331    -108.24117  -0.067928252]\n",
      "[   -222.89331     243.51949     140.96827   0.081743964]\n",
      "[   -108.24117     140.96827     90.867499 -0.0017822044]\n",
      "[ -0.067928252   0.081743964 -0.0017822044   0.032699348]\n",
      "[    574.27341    -71.947796    -1.2834205  5.1350507e-6]\n",
      "[   -71.947796     103.59833     2.6822418 -8.5884756e-6]\n",
      "[   -1.2834205     2.6822418     4.0959873 0.00032664633]\n",
      "[ 5.1350508e-6 -8.5884756e-6 0.00032664633   0.032266936]\n",
      "[     584.75334     -11.676748  -0.0089243355 -2.8618608e-10]\n",
      "[    -11.676748      93.191354     0.10696740   2.6947928e-9]\n",
      "[ -0.0089243355     0.10696740      4.0230378  -2.6208083e-6]\n",
      "[-2.8628619e-10   2.6947881e-9  -2.6208083e-6    0.032266909]\n",
      "[      585.02356      -1.8555147 -0.000061384282  -8.4197985e-14]\n",
      "[     -1.8555147       92.921261    0.0046211636  -9.3995573e-13]\n",
      "[-0.000061384282    0.0046211636       4.0229097    2.1020987e-8]\n",
      "[  1.5794231e-14  -9.3327923e-13    2.1020961e-8     0.032266909]\n",
      "[     585.03038    -0.29469601  -4.2210637e-7  9.9969668e-14]\n",
      "[   -0.29469601      92.914441  0.00020007139  7.3164061e-15]\n",
      "[ -4.2210636e-7  0.00020007139      4.0229095 -1.6863060e-10]\n",
      "[-8.7112465e-19  3.2408322e-16 -1.6860470e-10    0.032266909]\n",
      "[     585.03055   -0.046803492  -2.9025876e-9 -9.9967005e-14]\n",
      "[  -0.046803492      92.914269   8.6624801e-6 -7.0427367e-15]\n",
      "[ -2.9025766e-9   8.6624800e-6      4.0229095  1.3782371e-12]\n",
      "[ 4.8046216e-23 -1.1254618e-19  1.3523428e-12    0.032266909]\n",
      "[     585.03056  -0.0074333075 -1.9970318e-11  9.9966441e-14]\n",
      "[ -0.0074333075      92.914265   3.7505948e-7  7.0506193e-15]\n",
      "[-1.9959304e-11   3.7505944e-7      4.0229095 -3.6741209e-14]\n",
      "[-2.6499520e-27  3.9084603e-23 -1.0846856e-14    0.032266909]\n",
      "[     585.03056  -0.0011805542 -1.4826261e-13 -9.9966351e-14]\n",
      "[ -0.0011805542      92.914265   1.6238995e-8 -7.0518893e-15]\n",
      "[-1.3724834e-13   1.6238951e-8      4.0229095  2.5981353e-14]\n",
      "[ 1.4615606e-31 -1.3573151e-26  8.7000348e-17    0.032266909]\n",
      "[     585.03056 -0.00018749504 -1.1958131e-14  9.9966337e-14]\n",
      "[-0.00018749504      92.914265  7.0314271e-10  7.0520910e-15]\n",
      "[-9.4377575e-16  7.0309794e-10      4.0229095 -2.5895050e-14]\n",
      "[-8.0611245e-36  4.7136317e-30 -6.9781145e-19    0.032266909]\n",
      "[      585.03056 -0.000029777870  -1.1020860e-14  -9.9966335e-14]\n",
      "[-0.000029777870       92.914265   3.0486806e-11  -7.0521231e-15]\n",
      "[ -6.4897882e-18   3.0442036e-11       4.0229095   2.5894358e-14]\n",
      "[  4.4460510e-40  -1.6369319e-33   5.5969986e-21     0.032266909]\n",
      "[     585.03056  -4.7293068e-6 -1.1014417e-14  9.9966334e-14]\n",
      "[ -4.7293067e-6      92.914265  1.3628189e-12  7.0521281e-15]\n",
      "[-4.4626439e-20  1.3180490e-12      4.0229095 -2.5894353e-14]\n",
      "[-2.4521851e-44  5.6846742e-37 -4.4892346e-23    0.032266909]\n",
      "[     585.03056  -7.5110627e-7 -1.1014373e-14 -9.9966334e-14]\n",
      "[ -7.5110616e-7      92.914265  1.0183747e-13 -7.0521290e-15]\n",
      "[-3.0686965e-22  5.7067575e-14      4.0229095  2.5894353e-14]\n",
      "[ 1.3524838e-48 -1.9741518e-40  3.6007205e-25    0.032266909]\n",
      "[     585.03056  -1.1929042e-7 -1.1014373e-14  9.9966334e-14]\n",
      "[ -1.1929031e-7      92.914265  4.7240746e-14  7.0521291e-15]\n",
      "[-2.1101613e-24  2.4708551e-15      4.0229095 -2.5894353e-14]\n",
      "[-7.4595200e-53  6.8557586e-44 -2.8880620e-27    0.032266909]\n",
      "[     585.03056  -1.8945741e-8 -1.1014373e-14 -9.9966334e-14]\n",
      "[ -1.8945628e-8      92.914265  4.4876871e-14 -7.0521291e-15]\n",
      "[-1.4510332e-26  1.0698063e-16      4.0229095  2.5894353e-14]\n",
      "[ 4.1142407e-57 -2.3808415e-47  2.3164536e-29    0.032266909]\n",
      "[     585.03056  -3.0090477e-9 -1.1014373e-14  9.9966334e-14]\n",
      "[ -3.0089353e-9      92.914265  4.4774523e-14  7.0521291e-15]\n",
      "[-9.9778981e-29  4.6319410e-18      4.0229095 -2.5894353e-14]\n",
      "[-2.2691777e-61  8.2680949e-51 -1.8579786e-31    0.032266909]\n",
      "[     585.03056 -4.7799001e-10 -1.1014373e-14 -9.9966334e-14]\n",
      "[-4.7787763e-10      92.914265  4.4770091e-14 -7.0521291e-15]\n",
      "[-6.8612110e-31  2.0054917e-19      4.0229095  2.5894353e-14]\n",
      "[ 1.2515474e-65 -2.8713122e-54  1.4902455e-33    0.032266909]\n",
      "[     585.03056 -7.6008674e-11 -1.1014373e-14  9.9966334e-14]\n",
      "[-7.5896289e-11      92.914265  4.4769899e-14  7.0521291e-15]\n",
      "[-4.7180494e-33  8.6831788e-21      4.0229095 -2.5894353e-14]\n",
      "[-6.9028133e-70  9.9713828e-58 -1.1952945e-35    0.032266909]\n",
      "[     585.03056 -1.2166196e-11 -1.1014373e-14 -9.9966334e-14]\n",
      "[-1.2053811e-11      92.914265  4.4769891e-14 -7.0521291e-15]\n",
      "[-3.2443238e-35  3.7595564e-22      4.0229095  2.5894353e-14]\n",
      "[ 3.8071934e-74 -3.4628235e-61  9.5872053e-38    0.032266909]\n",
      "[     585.03056 -2.0267652e-12 -1.1014373e-14  9.9966334e-14]\n",
      "[-1.9143804e-12      92.914265  4.4769891e-14  7.0521291e-15]\n",
      "[-2.2309298e-37  1.6277754e-23      4.0229095 -2.5894353e-14]\n",
      "[-2.0998282e-78  1.2025561e-64 -7.6896953e-40    0.032266909]\n",
      "[     585.03056 -4.1642574e-13 -1.1014373e-14 -9.9966334e-14]\n",
      "[-3.0404094e-13      92.914265  4.4769891e-14 -7.0521291e-15]\n",
      "[-1.5340786e-39  7.0477800e-25      4.0229095  2.5894353e-14]\n",
      "[ 1.1581440e-82 -4.1761905e-68  6.1677425e-42    0.032266909]\n"
     ]
    }
   ],
   "source": [
    "m = matrix(RDF, [[1,2,3,4],[1,0,2,6],[1,8,4,-2],[1,5,-10,-20]]) \n",
    "Aref = transpose(m)*m\n",
    "A = copy(Aref) \n",
    "for i in range(0,20): \n",
    "    Q, R = A.QR() \n",
    "    A = R*Q \n",
    "    print A.str(lambda x: RealField(30)(x).str())"
   ]
  },
  {
   "cell_type": "code",
   "execution_count": 41,
   "metadata": {
    "collapsed": false
   },
   "outputs": [
    {
     "data": {
      "text/plain": [
       "[585.0305586200212, 92.91426499150643, 0.03226690899408103, 4.022909479477674]"
      ]
     },
     "execution_count": 41,
     "metadata": {
     },
     "output_type": "execute_result"
    }
   ],
   "source": [
    "Aref.eigenvalues()"
   ]
  },
  {
   "cell_type": "code",
   "execution_count": 0,
   "metadata": {
    "collapsed": false
   },
   "outputs": [
   ],
   "source": [
   ]
  },
  {
   "cell_type": "code",
   "execution_count": 0,
   "metadata": {
    "collapsed": false
   },
   "outputs": [
   ],
   "source": [
   ]
  },
  {
   "cell_type": "code",
   "execution_count": 0,
   "metadata": {
    "collapsed": false
   },
   "outputs": [
   ],
   "source": [
   ]
  },
  {
   "cell_type": "code",
   "execution_count": 0,
   "metadata": {
    "collapsed": false
   },
   "outputs": [
   ],
   "source": [
   ]
  },
  {
   "cell_type": "code",
   "execution_count": 0,
   "metadata": {
    "collapsed": false
   },
   "outputs": [
   ],
   "source": [
   ]
  },
  {
   "cell_type": "code",
   "execution_count": 0,
   "metadata": {
    "collapsed": false
   },
   "outputs": [
   ],
   "source": [
   ]
  },
  {
   "cell_type": "code",
   "execution_count": 0,
   "metadata": {
    "collapsed": false
   },
   "outputs": [
   ],
   "source": [
   ]
  },
  {
   "cell_type": "code",
   "execution_count": 0,
   "metadata": {
    "collapsed": false
   },
   "outputs": [
   ],
   "source": [
   ]
  },
  {
   "cell_type": "code",
   "execution_count": 0,
   "metadata": {
    "collapsed": false
   },
   "outputs": [
   ],
   "source": [
   ]
  },
  {
   "cell_type": "code",
   "execution_count": 0,
   "metadata": {
    "collapsed": false
   },
   "outputs": [
   ],
   "source": [
   ]
  },
  {
   "cell_type": "code",
   "execution_count": 0,
   "metadata": {
    "collapsed": false
   },
   "outputs": [
   ],
   "source": [
   ]
  },
  {
   "cell_type": "code",
   "execution_count": 0,
   "metadata": {
    "collapsed": false
   },
   "outputs": [
   ],
   "source": [
   ]
  },
  {
   "cell_type": "code",
   "execution_count": 0,
   "metadata": {
    "collapsed": false
   },
   "outputs": [
   ],
   "source": [
   ]
  },
  {
   "cell_type": "code",
   "execution_count": 0,
   "metadata": {
    "collapsed": false
   },
   "outputs": [
   ],
   "source": [
   ]
  },
  {
   "cell_type": "code",
   "execution_count": 0,
   "metadata": {
    "collapsed": false
   },
   "outputs": [
   ],
   "source": [
   ]
  },
  {
   "cell_type": "code",
   "execution_count": 0,
   "metadata": {
    "collapsed": false
   },
   "outputs": [
   ],
   "source": [
   ]
  },
  {
   "cell_type": "code",
   "execution_count": 0,
   "metadata": {
    "collapsed": false
   },
   "outputs": [
   ],
   "source": [
   ]
  },
  {
   "cell_type": "code",
   "execution_count": 0,
   "metadata": {
    "collapsed": false
   },
   "outputs": [
   ],
   "source": [
   ]
  },
  {
   "cell_type": "code",
   "execution_count": 0,
   "metadata": {
    "collapsed": false
   },
   "outputs": [
   ],
   "source": [
   ]
  },
  {
   "cell_type": "code",
   "execution_count": 0,
   "metadata": {
    "collapsed": false
   },
   "outputs": [
   ],
   "source": [
   ]
  },
  {
   "cell_type": "code",
   "execution_count": 0,
   "metadata": {
    "collapsed": false
   },
   "outputs": [
   ],
   "source": [
   ]
  },
  {
   "cell_type": "markdown",
   "metadata": {
    "collapsed": false
   },
   "source": [
    "# La décomposition en valeurs singulières\n",
    "\n",
    "On considère une matrice rectangulaire à coefficients dans $\\bf R$. Tracez l'image qui lui corresponde. "
   ]
  },
  {
   "cell_type": "code",
   "execution_count": 0,
   "metadata": {
    "collapsed": false
   },
   "outputs": [
   ],
   "source": [
   ]
  },
  {
   "cell_type": "code",
   "execution_count": 17,
   "metadata": {
    "collapsed": false
   },
   "outputs": [
   ],
   "source": [
    "from __future__ import print_function\n",
    "from ipywidgets import interact, interactive, fixed, interact_manual\n",
    "import ipywidgets as widgets"
   ]
  },
  {
   "cell_type": "code",
   "execution_count": 18,
   "metadata": {
    "collapsed": false
   },
   "outputs": [
   ],
   "source": [
    "def f(x):\n",
    "    return x"
   ]
  },
  {
   "cell_type": "code",
   "execution_count": 19,
   "metadata": {
    "collapsed": false
   },
   "outputs": [
    {
     "data": {
      "text/plain": [
       "10"
      ]
     },
     "execution_count": 19,
     "metadata": {
     },
     "output_type": "execute_result"
    },
    {
     "data": {
      "text/plain": [
       "<function f at 0x7f63a39e30c8>"
      ]
     },
     "execution_count": 19,
     "metadata": {
     },
     "output_type": "execute_result"
    }
   ],
   "source": [
    "interact(f, x=10)"
   ]
  },
  {
   "cell_type": "code",
   "execution_count": 20,
   "metadata": {
    "collapsed": false
   },
   "outputs": [
    {
     "data": {
      "text/plain": [
       "True"
      ]
     },
     "execution_count": 20,
     "metadata": {
     },
     "output_type": "execute_result"
    },
    {
     "data": {
      "text/plain": [
       "<function f at 0x7f63a39e30c8>"
      ]
     },
     "execution_count": 20,
     "metadata": {
     },
     "output_type": "execute_result"
    }
   ],
   "source": [
    "interact(f, x=True)"
   ]
  },
  {
   "cell_type": "code",
   "execution_count": 21,
   "metadata": {
    "collapsed": false
   },
   "outputs": [
    {
     "data": {
      "text/plain": [
       "(True, 1.0)"
      ]
     },
     "execution_count": 21,
     "metadata": {
     },
     "output_type": "execute_result"
    }
   ],
   "source": [
    "@interact(x=True, y=1.0)\n",
    "def g(x, y):\n",
    "    return (x, y)"
   ]
  },
  {
   "cell_type": "code",
   "execution_count": 22,
   "metadata": {
    "collapsed": false
   },
   "outputs": [
    {
     "data": {
      "text/plain": [
       "'apples'"
      ]
     },
     "execution_count": 22,
     "metadata": {
     },
     "output_type": "execute_result"
    }
   ],
   "source": [
    "interact(f, x=['apples','oranges']);"
   ]
  },
  {
   "cell_type": "code",
   "execution_count": 23,
   "metadata": {
    "collapsed": false
   },
   "outputs": [
   ],
   "source": [
    "from IPython.display import display\n",
    "def f(a, b):\n",
    "    display(a + b)\n",
    "    return a+b"
   ]
  },
  {
   "cell_type": "code",
   "execution_count": 24,
   "metadata": {
    "collapsed": false
   },
   "outputs": [
   ],
   "source": [
    "w = interactive(f, a=10, b=20)"
   ]
  },
  {
   "cell_type": "code",
   "execution_count": 25,
   "metadata": {
    "collapsed": false
   },
   "outputs": [
    {
     "data": {
      "text/plain": [
       "30"
      ]
     },
     "execution_count": 25,
     "metadata": {
     },
     "output_type": "execute_result"
    }
   ],
   "source": [
    "display(w)"
   ]
  },
  {
   "cell_type": "code",
   "execution_count": 26,
   "metadata": {
    "collapsed": false
   },
   "outputs": [
    {
     "data": {
      "image/png": "[encoded data removed]"
     },
     "execution_count": 26,
     "metadata": {
     },
     "output_type": "execute_result"
    }
   ],
   "source": [
    "%matplotlib inline\n",
    "from ipywidgets import interactive\n",
    "import matplotlib.pyplot as plt\n",
    "import numpy as np\n",
    "\n",
    "def f(m, b):\n",
    "    plt.figure(2)\n",
    "    x = np.linspace(-10, 10, num=1000)\n",
    "    plt.plot(x, m * x + b)\n",
    "    plt.ylim(-5, 5)\n",
    "    plt.show()\n",
    "\n",
    "interactive_plot = interactive(f, m=(-2.0, 2.0), b=(-3, 3, 0.5))\n",
    "output = interactive_plot.children[-1]\n",
    "output.layout.height = '350px'\n",
    "interactive_plot"
   ]
  },
  {
   "cell_type": "code",
   "execution_count": 29,
   "metadata": {
    "collapsed": false
   },
   "outputs": [
    {
     "name": "stderr",
     "output_type": "stream",
     "text": [
      "Widget Javascript not detected.  It may not be installed or enabled properly.\n"
     ]
    },
    {
     "data": {
      "application/vnd.jupyter.widget-view+json": {
       "model_id": "02d0cc53880c4b5ca9f6b01abef258ec"
      }
     },
     "execution_count": 29,
     "metadata": {
     },
     "output_type": "execute_result"
    }
   ],
   "source": [
    "widgets.IntSlider()"
   ]
  },
  {
   "cell_type": "code",
   "execution_count": 0,
   "metadata": {
    "collapsed": false
   },
   "outputs": [
   ],
   "source": [
   ]
  },
  {
   "cell_type": "code",
   "execution_count": 0,
   "metadata": {
    "collapsed": false
   },
   "outputs": [
   ],
   "source": [
   ]
  },
  {
   "cell_type": "code",
   "execution_count": 0,
   "metadata": {
    "collapsed": false
   },
   "outputs": [
   ],
   "source": [
   ]
  },
  {
   "cell_type": "code",
   "execution_count": 0,
   "metadata": {
    "collapsed": false
   },
   "outputs": [
   ],
   "source": [
   ]
  },
  {
   "cell_type": "code",
   "execution_count": 2,
   "metadata": {
    "collapsed": false
   },
   "outputs": [
   ],
   "source": [
    "A1 = matrix(2,3, [3,1,1, -1,3,1])\n",
    "A2 = matrix(2,3, [4,1,1, -1,4,1])\n",
    "A3 = matrix(2,3, [2,1,1, -1,2,1])"
   ]
  },
  {
   "cell_type": "code",
   "execution_count": 3,
   "metadata": {
    "collapsed": false
   },
   "outputs": [
    {
     "data": {
      "image/png": "[encoded data removed]"
     },
     "execution_count": 3,
     "metadata": {
     },
     "output_type": "execute_result"
    }
   ],
   "source": [
    "matrix_plot(A2)"
   ]
  },
  {
   "cell_type": "markdown",
   "metadata": {
    "collapsed": false
   },
   "source": [
    "#### Question 1 : Calculez une base de vecteurs propres de $A.A^t$ et de $A^t.A$."
   ]
  },
  {
   "cell_type": "code",
   "execution_count": 4,
   "metadata": {
    "collapsed": false
   },
   "outputs": [
    {
     "data": {
      "text/html": [
       "<html><script type=\"math/tex; mode=display\">\\newcommand{\\Bold}[1]{\\mathbf{#1}}\\left(\\begin{array}{rr}\n",
       "11 & 1 \\\\\n",
       "1 & 11\n",
       "\\end{array}\\right)</script></html>"
      ]
     },
     "execution_count": 4,
     "metadata": {
     },
     "output_type": "execute_result"
    }
   ],
   "source": [
    "A = A1\n",
    "B = A*transpose(A)\n",
    "show(B)"
   ]
  },
  {
   "cell_type": "code",
   "execution_count": 5,
   "metadata": {
    "collapsed": false
   },
   "outputs": [
    {
     "data": {
      "text/plain": [
       "((12, Vector space of degree 2 and dimension 1 over Rational Field\n",
       "  User basis matrix:\n",
       "  [1 1]), (10, Vector space of degree 2 and dimension 1 over Rational Field\n",
       "  User basis matrix:\n",
       "  [ 1 -1]))"
      ]
     },
     "execution_count": 5,
     "metadata": {
     },
     "output_type": "execute_result"
    }
   ],
   "source": [
    "b = B.eigenspaces_left()\n",
    "b[0], b[1]"
   ]
  },
  {
   "cell_type": "code",
   "execution_count": 6,
   "metadata": {
    "collapsed": false
   },
   "outputs": [
    {
     "data": {
      "text/plain": [
       "[\n",
       "(12, Vector space of degree 2 and dimension 1 over Rational Field\n",
       "User basis matrix:\n",
       "[1 1]),\n",
       "(10, Vector space of degree 2 and dimension 1 over Rational Field\n",
       "User basis matrix:\n",
       "[ 1 -1])\n",
       "]"
      ]
     },
     "execution_count": 6,
     "metadata": {
     },
     "output_type": "execute_result"
    }
   ],
   "source": [
    "b = B.eigenspaces_right()\n",
    "b"
   ]
  },
  {
   "cell_type": "code",
   "execution_count": 7,
   "metadata": {
    "collapsed": false
   },
   "outputs": [
   ],
   "source": [
    "#help(B.eigenvectors_left)"
   ]
  },
  {
   "cell_type": "markdown",
   "metadata": {
    "collapsed": false
   },
   "source": [
    "#### Question 2 : Notez $U$ (respectivement $V$) la matrice de la base orthonormée formée des vecteurs propres de $A.A^t$ (respectivement de $A.A$). Notez $D$ la matrice des valeurs singulières de $A$. Trouvez une manière rapide pour générer $U$,$V$ et $D$. "
   ]
  },
  {
   "cell_type": "code",
   "execution_count": 8,
   "metadata": {
    "collapsed": false
   },
   "outputs": [
    {
     "data": {
      "text/plain": [
       "sqrt(2)"
      ]
     },
     "execution_count": 8,
     "metadata": {
     },
     "output_type": "execute_result"
    }
   ],
   "source": [
    "norm(vector([1,1]))"
   ]
  },
  {
   "cell_type": "code",
   "execution_count": 9,
   "metadata": {
    "collapsed": false
   },
   "outputs": [
    {
     "data": {
      "text/html": [
       "<html><script type=\"math/tex; mode=display\">\\newcommand{\\Bold}[1]{\\mathbf{#1}}\\left(\\begin{array}{rr}\n",
       "0.707106781186548 & 0.707106781186548 \\\\\n",
       "0.707106781186548 & -0.707106781186548\n",
       "\\end{array}\\right)</script></html>"
      ]
     },
     "execution_count": 9,
     "metadata": {
     },
     "output_type": "execute_result"
    }
   ],
   "source": [
    "U = matrix(RR,2,2, [1/sqrt(2), 1/sqrt(2), 1/sqrt(2), -1/sqrt(2)])\n",
    "show(U)"
   ]
  },
  {
   "cell_type": "code",
   "execution_count": 10,
   "metadata": {
    "collapsed": false
   },
   "outputs": [
    {
     "data": {
      "text/html": [
       "<html><script type=\"math/tex; mode=display\">\\newcommand{\\Bold}[1]{\\mathbf{#1}}\\left(\\begin{array}{rrr}\n",
       "3.46410161513775 & 0.000000000000000 & 0.000000000000000 \\\\\n",
       "0.000000000000000 & 3.16227766016838 & 0.000000000000000\n",
       "\\end{array}\\right)</script></html>"
      ]
     },
     "execution_count": 10,
     "metadata": {
     },
     "output_type": "execute_result"
    }
   ],
   "source": [
    "D = matrix(RR,2,3,[sqrt(12),0,0, 0,sqrt(10),0])\n",
    "show(D)"
   ]
  },
  {
   "cell_type": "code",
   "execution_count": 11,
   "metadata": {
    "collapsed": false
   },
   "outputs": [
    {
     "data": {
      "text/html": [
       "<html><script type=\"math/tex; mode=display\">\\newcommand{\\Bold}[1]{\\mathbf{#1}}\\left(\\begin{array}{rrr}\n",
       "10 & 0 & 2 \\\\\n",
       "0 & 10 & 4 \\\\\n",
       "2 & 4 & 2\n",
       "\\end{array}\\right)</script></html>"
      ]
     },
     "execution_count": 11,
     "metadata": {
     },
     "output_type": "execute_result"
    }
   ],
   "source": [
    "C = transpose(A)*A\n",
    "show(C)"
   ]
  },
  {
   "cell_type": "code",
   "execution_count": 12,
   "metadata": {
    "collapsed": false
   },
   "outputs": [
    {
     "data": {
      "text/plain": [
       "[\n",
       "(12, Vector space of degree 3 and dimension 1 over Rational Field\n",
       "User basis matrix:\n",
       "[1 2 1]),\n",
       "(10, Vector space of degree 3 and dimension 1 over Rational Field\n",
       "User basis matrix:\n",
       "[   1 -1/2    0]),\n",
       "(0, Vector space of degree 3 and dimension 1 over Rational Field\n",
       "User basis matrix:\n",
       "[ 1  2 -5])\n",
       "]"
      ]
     },
     "execution_count": 12,
     "metadata": {
     },
     "output_type": "execute_result"
    }
   ],
   "source": [
    "C.eigenspaces_left()"
   ]
  },
  {
   "cell_type": "code",
   "execution_count": 13,
   "metadata": {
    "collapsed": false
   },
   "outputs": [
    {
     "data": {
      "text/html": [
       "<html><script type=\"math/tex; mode=display\">\\newcommand{\\Bold}[1]{\\mathbf{#1}}\\left(\\begin{array}{rrr}\n",
       "0.408248290463863 & 0.894427190999916 & 0.182574185835055 \\\\\n",
       "0.816496580927726 & -0.447213595499958 & 0.365148371670111 \\\\\n",
       "0.408248290463863 & 0.000000000000000 & -0.912870929175277\n",
       "\\end{array}\\right)</script></html>"
      ]
     },
     "execution_count": 13,
     "metadata": {
     },
     "output_type": "execute_result"
    }
   ],
   "source": [
    "V = matrix(RR, 3,3, [1/sqrt(6),2/sqrt(5),1/sqrt(30), 2/sqrt(6),-1/sqrt(5),2/sqrt(30), 1/sqrt(6),0,-5/sqrt(30)])\n",
    "show(V)"
   ]
  },
  {
   "cell_type": "code",
   "execution_count": 14,
   "metadata": {
    "collapsed": false
   },
   "outputs": [
    {
     "data": {
      "text/plain": [
       "[ 3.00000000000000  1.00000000000000  1.00000000000000]\n",
       "[-1.00000000000000  3.00000000000000  1.00000000000000]"
      ]
     },
     "execution_count": 14,
     "metadata": {
     },
     "output_type": "execute_result"
    }
   ],
   "source": [
    "(U * D) * transpose(V)"
   ]
  },
  {
   "cell_type": "code",
   "execution_count": 15,
   "metadata": {
    "collapsed": false
   },
   "outputs": [
    {
     "data": {
      "text/plain": [
       "[ 3  1  1]\n",
       "[-1  3  1]"
      ]
     },
     "execution_count": 15,
     "metadata": {
     },
     "output_type": "execute_result"
    }
   ],
   "source": [
    "A"
   ]
  },
  {
   "cell_type": "code",
   "execution_count": 16,
   "metadata": {
    "collapsed": false
   },
   "outputs": [
   ],
   "source": [
    "import numpy\n",
    "u, s, v = numpy.linalg.svd(A3)"
   ]
  },
  {
   "cell_type": "code",
   "execution_count": 17,
   "metadata": {
    "collapsed": false
   },
   "outputs": [
    {
     "data": {
      "text/plain": [
       "(array([[-0.70710678, -0.70710678],\n",
       "        [-0.70710678,  0.70710678]]),\n",
       " array([ 2.64575131,  2.23606798]),\n",
       " array([[ -2.67261242e-01,  -8.01783726e-01,  -5.34522484e-01],\n",
       "        [ -9.48683298e-01,   3.16227766e-01,  -4.95252351e-16],\n",
       "        [ -1.69030851e-01,  -5.07092553e-01,   8.45154255e-01]]))"
      ]
     },
     "execution_count": 17,
     "metadata": {
     },
     "output_type": "execute_result"
    }
   ],
   "source": [
    "u, s, v"
   ]
  },
  {
   "cell_type": "code",
   "execution_count": 18,
   "metadata": {
    "collapsed": false
   },
   "outputs": [
   ],
   "source": [
    "#from reseau import perceptron"
   ]
  },
  {
   "cell_type": "code",
   "execution_count": 19,
   "metadata": {
    "collapsed": false
   },
   "outputs": [
    {
     "data": {
      "text/plain": [
       "sqrt(5)"
      ]
     },
     "execution_count": 19,
     "metadata": {
     },
     "output_type": "execute_result"
    }
   ],
   "source": [
    "norm(vector([1,2]))"
   ]
  },
  {
   "cell_type": "markdown",
   "metadata": {
    "collapsed": false
   },
   "source": [
    "#### Question 3 : Importez l'image coffee.png et stockez-là dans une matrice `A_image`."
   ]
  },
  {
   "cell_type": "code",
   "execution_count": 20,
   "metadata": {
    "collapsed": false
   },
   "outputs": [
    {
     "data": {
      "text/plain": [
       "(400, 600)"
      ]
     },
     "execution_count": 20,
     "metadata": {
     },
     "output_type": "execute_result"
    }
   ],
   "source": [
    "import numpy\n",
    "import pylab\n",
    "A_image = 1-numpy.mean(pylab.imread('coffee.png'),2)\n",
    "A_image.shape"
   ]
  },
  {
   "cell_type": "code",
   "execution_count": 21,
   "metadata": {
    "collapsed": false
   },
   "outputs": [
    {
     "data": {
      "text/plain": [
       "(400, 600, 3)"
      ]
     },
     "execution_count": 21,
     "metadata": {
     },
     "output_type": "execute_result"
    }
   ],
   "source": [
    "B = pylab.imread('coffee.png')\n",
    "B.shape"
   ]
  },
  {
   "cell_type": "code",
   "execution_count": 22,
   "metadata": {
    "collapsed": false
   },
   "outputs": [
   ],
   "source": [
    "#help(numpy.mean)"
   ]
  },
  {
   "cell_type": "code",
   "execution_count": 23,
   "metadata": {
    "collapsed": false
   },
   "outputs": [
    {
     "data": {
      "image/png": "[encoded data removed]"
     },
     "execution_count": 23,
     "metadata": {
     },
     "output_type": "execute_result"
    }
   ],
   "source": [
    "matrix_plot(A_image)"
   ]
  },
  {
   "cell_type": "code",
   "execution_count": 0,
   "metadata": {
    "collapsed": false
   },
   "outputs": [
   ],
   "source": [
   ]
  },
  {
   "cell_type": "markdown",
   "metadata": {
    "collapsed": false
   },
   "source": [
    "#### Question 4 : Tracez sur un même graphique la matrice `A_image` ainsi que la matrice `A_approx` qui donne une approximation de l'image en fonction d'un nombre de valeurs singulières réduit."
   ]
  },
  {
   "cell_type": "code",
   "execution_count": 24,
   "metadata": {
    "collapsed": false
   },
   "outputs": [
   ],
   "source": [
    "U,s,V = numpy.linalg.svd(A_image)"
   ]
  },
  {
   "cell_type": "code",
   "execution_count": 25,
   "metadata": {
    "collapsed": false
   },
   "outputs": [
    {
     "data": {
      "text/plain": [
       "0.94509804"
      ]
     },
     "execution_count": 25,
     "metadata": {
     },
     "output_type": "execute_result"
    }
   ],
   "source": [
    "A_image[0,0]"
   ]
  },
  {
   "cell_type": "code",
   "execution_count": 26,
   "metadata": {
    "collapsed": false
   },
   "outputs": [
    {
     "data": {
      "text/plain": [
       "(400, 600)"
      ]
     },
     "execution_count": 26,
     "metadata": {
     },
     "output_type": "execute_result"
    }
   ],
   "source": [
    "A_image.shape"
   ]
  },
  {
   "cell_type": "code",
   "execution_count": 27,
   "metadata": {
    "collapsed": false
   },
   "outputs": [
   ],
   "source": [
    "D = numpy.zeros(A_image.shape)\n",
    "D[:len(s),:len(s)] = numpy.diag(s)"
   ]
  },
  {
   "cell_type": "code",
   "execution_count": 28,
   "metadata": {
    "collapsed": false
   },
   "outputs": [
    {
     "data": {
      "text/plain": [
       "(array([ 305.42077637,   61.69586563,   32.93205643,   25.52998352,\n",
       "          20.38374138,   16.9603672 ,   15.35072994,   13.72278023,\n",
       "          11.87147045,   10.67421055,   10.001894  ,    9.39233875,\n",
       "           8.76823997,    7.74965048,    6.84282398,    6.744205  ,\n",
       "           6.53583384,    6.15535498,    5.86225843,    5.41834593], dtype=float32),\n",
       " 400)"
      ]
     },
     "execution_count": 28,
     "metadata": {
     },
     "output_type": "execute_result"
    }
   ],
   "source": [
    "s[0:20], len(s)"
   ]
  },
  {
   "cell_type": "code",
   "execution_count": 29,
   "metadata": {
    "collapsed": false
   },
   "outputs": [
    {
     "data": {
      "text/plain": [
       "(array([ 18.,   5.,   2.,   1.,   1.,   1.,   0.,   0.,   0.,   0.,   1.,\n",
       "          0.,   0.,   0.,   0.,   0.,   0.,   0.,   0.,   0.,   0.,   0.,\n",
       "          0.,   0.,   0.,   0.,   0.,   0.,   0.,   0.,   0.,   0.,   0.,\n",
       "          0.,   0.,   0.,   0.,   0.,   0.,   0.,   0.,   0.,   0.,   0.,\n",
       "          0.,   0.,   0.,   0.,   0.,   0.,   0.,   0.,   0.,   0.,   0.,\n",
       "          0.,   1.]),\n",
       " array([   4.04660654,    9.33387268,   14.62113882,   19.90840495,\n",
       "          25.19567109,   30.48293723,   35.77020336,   41.0574695 ,\n",
       "          46.34473564,   51.63200178,   56.91926791,   62.20653405,\n",
       "          67.49380019,   72.78106633,   78.06833246,   83.3555986 ,\n",
       "          88.64286474,   93.93013087,   99.21739701,  104.50466315,\n",
       "         109.79192929,  115.07919542,  120.36646156,  125.6537277 ,\n",
       "         130.94099384,  136.22825997,  141.51552611,  146.80279225,\n",
       "         152.09005839,  157.37732452,  162.66459066,  167.9518568 ,\n",
       "         173.23912293,  178.52638907,  183.81365521,  189.10092135,\n",
       "         194.38818748,  199.67545362,  204.96271976,  210.2499859 ,\n",
       "         215.53725203,  220.82451817,  226.11178431,  231.39905044,\n",
       "         236.68631658,  241.97358272,  247.26084886,  252.54811499,\n",
       "         257.83538113,  263.12264727,  268.40991341,  273.69717954,\n",
       "         278.98444568,  284.27171182,  289.55897796,  294.84624409,\n",
       "         300.13351023,  305.42077637]),\n",
       " <a list of 57 Patch objects>)"
      ]
     },
     "execution_count": 29,
     "metadata": {
     },
     "output_type": "execute_result"
    },
    {
     "data": {
      "image/png": "[encoded data removed]"
     },
     "execution_count": 29,
     "metadata": {
     },
     "output_type": "execute_result"
    }
   ],
   "source": [
    "import matplotlib.pyplot as plt\n",
    "plt.hist(s[0:30], bins='auto')\n",
    "#help(plt.hist)"
   ]
  },
  {
   "cell_type": "code",
   "execution_count": 0,
   "metadata": {
    "collapsed": false
   },
   "outputs": [
   ],
   "source": [
   ]
  },
  {
   "cell_type": "code",
   "execution_count": 0,
   "metadata": {
    "collapsed": false
   },
   "outputs": [
   ],
   "source": [
   ]
  },
  {
   "cell_type": "code",
   "execution_count": 30,
   "metadata": {
    "collapsed": false
   },
   "outputs": [
    {
     "data": {
      "image/png": "[encoded data removed]"
     },
     "execution_count": 30,
     "metadata": {
     },
     "output_type": "execute_result"
    }
   ],
   "source": [
    "from sage.plot.histogram import Histogram\n",
    "H = histogram(s, bins=10, normed=False, range=[0,40])\n",
    "show(H)"
   ]
  },
  {
   "cell_type": "code",
   "execution_count": 31,
   "metadata": {
    "collapsed": false
   },
   "outputs": [
    {
     "name": "stdout",
     "output_type": "stream",
     "text": [
      "Help on function histogram in module sage.plot.histogram:\n",
      "\n",
      "histogram(*args, **kwds)\n",
      "    Computes and draws the histogram for list(s) of numerical data.\n",
      "    See examples for the many options; even more customization is\n",
      "    available using matplotlib directly.\n",
      "    \n",
      "    INPUT:\n",
      "    \n",
      "    - ``datalist`` -- A list, or a list of lists, of numerical data\n",
      "    - ``align`` -- (default: \"mid\") How the bars align inside of each bin.\n",
      "      Acceptable values are \"left\", \"right\" or \"mid\"\n",
      "    - ``alpha`` -- (float in [0,1], default: 1) The transparency of the plot\n",
      "    - ``bins`` -- The number of sections in which to divide the range. Also\n",
      "      can be a sequence of points within the range that create the\n",
      "      partition\n",
      "    - ``color`` -- The color of the face of the bars or list of colors if\n",
      "      multiple data sets are given\n",
      "    - ``cumulative`` -- (boolean - default: False) If True, then\n",
      "      a histogram is computed in which each bin gives the counts in that\n",
      "      bin plus all bins for smaller values.  Negative values give\n",
      "      a reversed direction of accumulation\n",
      "    - ``edgecolor`` -- The color of the border of each bar\n",
      "    - ``fill`` -- (boolean - default: True) Whether to fill the bars\n",
      "    - ``hatch`` -- (default: None) symbol to fill the bars with - one of\n",
      "      \"/\", \"\\\", \"|\", \"-\", \"+\", \"x\", \"o\", \"O\", \".\", \"*\", \"\" (or None)\n",
      "    - ``hue`` -- The color of the bars given as a hue. See\n",
      "      :mod:`~sage.plot.colors.hue` for more information on the hue\n",
      "    - ``label`` -- A string label for each data list given\n",
      "    - ``linewidth`` -- (float) width of the lines defining the bars\n",
      "    - ``linestyle`` -- (default: 'solid') Style of the line. One of 'solid'\n",
      "      or '-', 'dashed' or '--', 'dotted' or ':', 'dashdot' or '-.'\n",
      "    - ``normed`` -- (boolean - default: False) If True, the counts are\n",
      "      normalized to form a probability density.\n",
      "    - ``range`` -- A list [min, max] which define the range of the\n",
      "      histogram. Values outside of this range are treated as outliers and\n",
      "      omitted from counts\n",
      "    - ``rwidth`` -- (float in [0,1], default: 1) The relative width of the bars\n",
      "      as a fraction of the bin width\n",
      "    - ``stacked`` -- (boolean - default: False) If True, multiple data are\n",
      "      stacked on top of each other\n",
      "    - ``weights`` -- (list) A sequence of weights the same length as the data\n",
      "      list. If supplied, then each value contributes its associated weight\n",
      "      to the bin count\n",
      "    - ``zorder`` -- (integer) the layer level at which to draw the histogram\n",
      "    \n",
      "    .. NOTE::\n",
      "    \n",
      "        The ``weights`` option works only with a single list. List of lists\n",
      "        representing multiple data are not supported.\n",
      "    \n",
      "    EXAMPLES:\n",
      "    \n",
      "    A very basic histogram for four data points::\n",
      "    \n",
      "        sage: histogram([1,2,3,4], bins=2)\n",
      "        Graphics object consisting of 1 graphics primitive\n",
      "    \n",
      "    We can see how the histogram compares to various distributions.\n",
      "    Note the use of the ``normed`` keyword to guarantee the plot\n",
      "    looks like the probability density function::\n",
      "    \n",
      "        sage: nv = normalvariate\n",
      "        sage: H = histogram([nv(0,1) for _ in range(1000)], bins=20, normed=True, range=[-5,5])\n",
      "        sage: P = plot( 1/sqrt(2*pi)*e^(-x^2/2), (x,-5,5), color='red', linestyle='--')\n",
      "        sage: H+P\n",
      "        Graphics object consisting of 2 graphics primitives\n",
      "    \n",
      "    There are many options one can use with histograms.  Some of these\n",
      "    control the presentation of the data, even if it is boring::\n",
      "    \n",
      "        sage: histogram(list(range(100)), color=(1,0,0), label='mydata',              rwidth=.5, align=\"right\")\n",
      "        Graphics object consisting of 1 graphics primitive\n",
      "    \n",
      "    This includes many usual matplotlib styling options::\n",
      "    \n",
      "        sage: T = RealDistribution('lognormal', [0,1])\n",
      "        sage: histogram( [T.get_random_element() for _ in range(100)], alpha=0.3,              edgecolor='red', fill=False, linestyle='dashed', hatch='O', linewidth=5)\n",
      "        Graphics object consisting of 1 graphics primitive\n",
      "        sage: histogram( [T.get_random_element() for _ in range(100)],linestyle='-.')\n",
      "        Graphics object consisting of 1 graphics primitive\n",
      "    \n",
      "    We can do several data sets at once if desired::\n",
      "    \n",
      "        sage: histogram([srange(0,1,.1)*10, [nv(0, 1) for _ in range(100)]], color=['red','green'], bins=5)\n",
      "        Graphics object consisting of 1 graphics primitive\n",
      "    \n",
      "    We have the option of stacking the data sets too::\n",
      "    \n",
      "        sage: histogram([ [1,1,1,1,2,2,2,3,3,3], [4,4,4,4,3,3,3,2,2,2] ], stacked=True, color=['blue', 'red'])\n",
      "        Graphics object consisting of 1 graphics primitive\n",
      "    \n",
      "    It is possible to use weights with the histogram as well::\n",
      "    \n",
      "        sage: histogram(list(range(10)), bins=3, weights=[1,2,3,4,5,5,4,3,2,1])\n",
      "        Graphics object consisting of 1 graphics primitive\n",
      "\n"
     ]
    }
   ],
   "source": [
    "help(histogram)"
   ]
  },
  {
   "cell_type": "code",
   "execution_count": 38,
   "metadata": {
    "collapsed": false
   },
   "outputs": [
    {
     "data": {
      "image/png": "[encoded data removed]"
     },
     "execution_count": 38,
     "metadata": {
     },
     "output_type": "execute_result"
    }
   ],
   "source": [
    "i = 60\n",
    "A_approx = numpy.dot(numpy.dot(U[:,:i], D[:i,:i]), V[:i,:])\n",
    "graphics_array([matrix_plot(A_image), matrix_plot(A_approx)])"
   ]
  },
  {
   "cell_type": "code",
   "execution_count": 33,
   "metadata": {
    "collapsed": false
   },
   "outputs": [
    {
     "data": {
      "text/plain": [
       "0.250250000000000"
      ]
     },
     "execution_count": 33,
     "metadata": {
     },
     "output_type": "execute_result"
    }
   ],
   "source": [
    "(60*(400+600+1))/(400*600).n()"
   ]
  },
  {
   "cell_type": "code",
   "execution_count": 34,
   "metadata": {
    "collapsed": false
   },
   "outputs": [
    {
     "data": {
      "image/png": "[encoded data removed]"
     },
     "execution_count": 34,
     "metadata": {
     },
     "output_type": "execute_result"
    }
   ],
   "source": [
    "import numpy\n",
    "import pylab\n",
    "B_image = 1-numpy.mean(pylab.imread('test.png'), 2)\n",
    "matrix_plot(B_image)"
   ]
  },
  {
   "cell_type": "code",
   "execution_count": 0,
   "metadata": {
    "collapsed": false
   },
   "outputs": [
   ],
   "source": [
   ]
  },
  {
   "cell_type": "code",
   "execution_count": 35,
   "metadata": {
    "collapsed": false
   },
   "outputs": [
    {
     "data": {
      "text/plain": [
       "(585, 952, 4)"
      ]
     },
     "execution_count": 35,
     "metadata": {
     },
     "output_type": "execute_result"
    }
   ],
   "source": [
    "A = 1-pylab.imread('test.png')\n",
    "A.shape"
   ]
  },
  {
   "cell_type": "code",
   "execution_count": 79,
   "metadata": {
    "collapsed": false
   },
   "outputs": [
    {
     "data": {
      "text/plain": [
       "(585, 952)"
      ]
     },
     "execution_count": 79,
     "metadata": {
     },
     "output_type": "execute_result"
    }
   ],
   "source": [
    "B_image.shape"
   ]
  },
  {
   "cell_type": "code",
   "execution_count": 80,
   "metadata": {
    "collapsed": false
   },
   "outputs": [
   ],
   "source": [
    "U,s,V = numpy.linalg.svd(B_image)"
   ]
  },
  {
   "cell_type": "code",
   "execution_count": 81,
   "metadata": {
    "collapsed": false
   },
   "outputs": [
   ],
   "source": [
    "D = numpy.zeros(B_image.shape)\n",
    "D[:len(s),:len(s)] = numpy.diag(s)"
   ]
  },
  {
   "cell_type": "code",
   "execution_count": 82,
   "metadata": {
    "collapsed": false
   },
   "outputs": [
    {
     "data": {
      "image/png": "[encoded data removed]"
     },
     "execution_count": 82,
     "metadata": {
     },
     "output_type": "execute_result"
    }
   ],
   "source": [
    "i = 15\n",
    "B_approx = numpy.dot(numpy.dot(U[:,:i], D[:i,:i]), V[:i,:])\n",
    "graphics_array([matrix_plot(B_image), matrix_plot(B_approx)])"
   ]
  },
  {
   "cell_type": "code",
   "execution_count": 83,
   "metadata": {
    "collapsed": false
   },
   "outputs": [
    {
     "data": {
      "image/png": "[encoded data removed]"
     },
     "execution_count": 83,
     "metadata": {
     },
     "output_type": "execute_result"
    }
   ],
   "source": [
    "i = 100\n",
    "A_approx = numpy.dot(numpy.dot(U[:,:i], D[:i,:i]), V[:i,:])\n",
    "graphics_array([matrix_plot(B_image), matrix_plot(A_approx)])"
   ]
  },
  {
   "cell_type": "code",
   "execution_count": 1,
   "metadata": {
    "collapsed": false
   },
   "outputs": [
   ],
   "source": [
    "#http://www.math.univ-toulouse.fr/~besse/Wikistat/pdf/st-scenar-explo1-svd-acp.pdf"
   ]
  },
  {
   "cell_type": "code",
   "execution_count": 2,
   "metadata": {
    "collapsed": false
   },
   "outputs": [
   ],
   "source": [
    "# Matrice des données - Traitement sur R\n",
    "note=matrix(c(6,6,5,5.5,8,8,8,8,6,7,11,9.5,14.5,14.5,15.5,15,14,1,12,12.5,11,10,5.5,7,5.5,7,14,11.5,13,12.5,8.5,9.5,9,9.5,12.5,12),nrow=9,byrow=TRUE)"
   ]
  },
  {
   "cell_type": "code",
   "execution_count": 3,
   "metadata": {
    "collapsed": false
   },
   "outputs": [
   ],
   "source": [
    "note=data.frame(note)"
   ]
  },
  {
   "cell_type": "code",
   "execution_count": 4,
   "metadata": {
    "collapsed": false
   },
   "outputs": [
    {
     "data": {
      "text/html": [
       "<table>\n",
       "<thead><tr><th></th><th scope=col>Math</th><th scope=col>Phys</th><th scope=col>Fran</th><th scope=col>Angl</th></tr></thead>\n",
       "<tbody>\n",
       "\t<tr><th scope=row>Salah</th><td> 6.0</td><td> 6.0</td><td> 5.0</td><td> 5.5</td></tr>\n",
       "\t<tr><th scope=row>Ali</th><td> 8.0</td><td> 8.0</td><td> 8.0</td><td> 8.0</td></tr>\n",
       "\t<tr><th scope=row>Besma</th><td> 6.0</td><td> 7.0</td><td>11.0</td><td> 9.5</td></tr>\n",
       "\t<tr><th scope=row>Amina</th><td>14.5</td><td>14.5</td><td>15.5</td><td>15.0</td></tr>\n",
       "\t<tr><th scope=row>Marwen</th><td>14.0</td><td> 1.0</td><td>12.0</td><td>12.5</td></tr>\n",
       "\t<tr><th scope=row>Slim</th><td>11.0</td><td>10.0</td><td> 5.5</td><td> 7.0</td></tr>\n",
       "\t<tr><th scope=row>Faten</th><td> 5.5</td><td> 7.0</td><td>14.0</td><td>11.5</td></tr>\n",
       "\t<tr><th scope=row>Fatma</th><td>13.0</td><td>12.5</td><td> 8.5</td><td> 9.5</td></tr>\n",
       "\t<tr><th scope=row>Essia</th><td> 9.0</td><td> 9.5</td><td>12.5</td><td>12.0</td></tr>\n",
       "</tbody>\n",
       "</table>\n"
      ]
     },
     "execution_count": 4,
     "metadata": {
     },
     "output_type": "execute_result"
    }
   ],
   "source": [
    "nomi=c(\"Salah\",\"Ali\",\"Besma\",\"Amina\",\n",
    "\"Marwen\",\"Slim\",\"Faten\",\"Fatma\",\"Essia\")\n",
    "nomv=c(\"Math\",\"Phys\",\"Fran\",\"Angl\")\n",
    "dimnames(note)[[1]]=nomi\n",
    "dimnames(note)[[2]]=nomv\n",
    "# Vérification\n",
    "note"
   ]
  },
  {
   "cell_type": "code",
   "execution_count": 5,
   "metadata": {
    "collapsed": false
   },
   "outputs": [
    {
     "data": {
      "text/plain": [
       "      Math             Phys             Fran            Angl      \n",
       " Min.   : 5.500   Min.   : 1.000   Min.   : 5.00   Min.   : 5.50  \n",
       " 1st Qu.: 6.000   1st Qu.: 7.000   1st Qu.: 8.00   1st Qu.: 8.00  \n",
       " Median : 9.000   Median : 8.000   Median :11.00   Median : 9.50  \n",
       " Mean   : 9.667   Mean   : 8.389   Mean   :10.22   Mean   :10.06  \n",
       " 3rd Qu.:13.000   3rd Qu.:10.000   3rd Qu.:12.50   3rd Qu.:12.00  \n",
       " Max.   :14.500   Max.   :14.500   Max.   :15.50   Max.   :15.00  "
      ]
     },
     "execution_count": 5,
     "metadata": {
     },
     "output_type": "execute_result"
    }
   ],
   "source": [
    "summary(note)"
   ]
  },
  {
   "cell_type": "code",
   "execution_count": 6,
   "metadata": {
    "collapsed": false
   },
   "outputs": [
    {
     "data": {
      "image/png": "[encoded data removed]"
     },
     "execution_count": 6,
     "metadata": {
     },
     "output_type": "execute_result"
    }
   ],
   "source": [
    "boxplot(note)"
   ]
  },
  {
   "cell_type": "code",
   "execution_count": 7,
   "metadata": {
    "collapsed": false
   },
   "outputs": [
    {
     "data": {
      "text/html": [
       "<table>\n",
       "<thead><tr><th></th><th scope=col>Math</th><th scope=col>Phys</th><th scope=col>Fran</th><th scope=col>Angl</th></tr></thead>\n",
       "<tbody>\n",
       "\t<tr><th scope=row>Math</th><td>12.812500</td><td> 4.114583</td><td> 2.989583</td><td> 5.427083</td></tr>\n",
       "\t<tr><th scope=row>Phys</th><td> 4.114583</td><td>15.298611</td><td> 1.746528</td><td> 2.194444</td></tr>\n",
       "\t<tr><th scope=row>Fran</th><td> 2.989583</td><td> 1.746528</td><td>13.569444</td><td>10.454861</td></tr>\n",
       "\t<tr><th scope=row>Angl</th><td> 5.427083</td><td> 2.194444</td><td>10.454861</td><td> 8.902778</td></tr>\n",
       "</tbody>\n",
       "</table>\n"
      ]
     },
     "execution_count": 7,
     "metadata": {
     },
     "output_type": "execute_result"
    }
   ],
   "source": [
    "X=as.matrix(note)\n",
    "# Matrice des variances covariances\n",
    "var(X)"
   ]
  },
  {
   "cell_type": "code",
   "execution_count": 7,
   "metadata": {
    "collapsed": false
   },
   "outputs": [
    {
     "data": {
      "text/html": [
       "<table>\n",
       "<thead><tr><th></th><th scope=col>Math</th><th scope=col>Phys</th><th scope=col>Fran</th><th scope=col>Angl</th></tr></thead>\n",
       "<tbody>\n",
       "\t<tr><th scope=row>Math</th><td>1.0000000</td><td>0.2938887</td><td>0.2267319</td><td>0.5081440</td></tr>\n",
       "\t<tr><th scope=row>Phys</th><td>0.2938887</td><td>1.0000000</td><td>0.1212184</td><td>0.1880338</td></tr>\n",
       "\t<tr><th scope=row>Fran</th><td>0.2267319</td><td>0.1212184</td><td>1.0000000</td><td>0.9512058</td></tr>\n",
       "\t<tr><th scope=row>Angl</th><td>0.5081440</td><td>0.1880338</td><td>0.9512058</td><td>1.0000000</td></tr>\n",
       "</tbody>\n",
       "</table>\n"
      ]
     },
     "execution_count": 7,
     "metadata": {
     },
     "output_type": "execute_result"
    }
   ],
   "source": [
    "# Matrice des corrélations\n",
    "cor(X)"
   ]
  },
  {
   "cell_type": "code",
   "execution_count": 8,
   "metadata": {
    "collapsed": false
   },
   "outputs": [
    {
     "data": {
      "text/html": [
       "<table>\n",
       "<thead><tr><th></th><th scope=col>Math</th><th scope=col>Phys</th><th scope=col>Fran</th><th scope=col>Angl</th></tr></thead>\n",
       "<tbody>\n",
       "\t<tr><th scope=row>Salah</th><td>-3.6666667</td><td>-2.3888889</td><td>-5.2222222</td><td>-4.5555556</td></tr>\n",
       "\t<tr><th scope=row>Ali</th><td>-1.6666667</td><td>-0.3888889</td><td>-2.2222222</td><td>-2.0555556</td></tr>\n",
       "\t<tr><th scope=row>Besma</th><td>-3.6666667</td><td>-1.3888889</td><td> 0.7777778</td><td>-0.5555556</td></tr>\n",
       "\t<tr><th scope=row>Amina</th><td> 4.8333333</td><td> 6.1111111</td><td> 5.2777778</td><td> 4.9444444</td></tr>\n",
       "\t<tr><th scope=row>Marwen</th><td> 4.3333333</td><td>-7.3888889</td><td> 1.7777778</td><td> 2.4444444</td></tr>\n",
       "\t<tr><th scope=row>Slim</th><td> 1.3333333</td><td> 1.6111111</td><td>-4.7222222</td><td>-3.0555556</td></tr>\n",
       "\t<tr><th scope=row>Faten</th><td>-4.1666667</td><td>-1.3888889</td><td> 3.7777778</td><td> 1.4444444</td></tr>\n",
       "\t<tr><th scope=row>Fatma</th><td> 3.3333333</td><td> 4.1111111</td><td>-1.7222222</td><td>-0.5555556</td></tr>\n",
       "\t<tr><th scope=row>Essia</th><td>-0.6666667</td><td> 1.1111111</td><td> 2.2777778</td><td> 1.9444444</td></tr>\n",
       "</tbody>\n",
       "</table>\n"
      ]
     },
     "execution_count": 8,
     "metadata": {
     },
     "output_type": "execute_result"
    }
   ],
   "source": [
    "# Matrice centrée\n",
    "Xb=scale(X,scale=F)\n",
    "Xb"
   ]
  },
  {
   "cell_type": "code",
   "execution_count": 9,
   "metadata": {
    "collapsed": false
   },
   "outputs": [
    {
     "data": {
      "text/html": [
       "<table>\n",
       "<thead><tr><th></th><th scope=col>Math</th><th scope=col>Phys</th><th scope=col>Fran</th><th scope=col>Angl</th></tr></thead>\n",
       "<tbody>\n",
       "\t<tr><th scope=row>Math</th><td>12.812500</td><td> 4.114583</td><td> 2.989583</td><td> 5.427083</td></tr>\n",
       "\t<tr><th scope=row>Phys</th><td> 4.114583</td><td>15.298611</td><td> 1.746528</td><td> 2.194444</td></tr>\n",
       "\t<tr><th scope=row>Fran</th><td> 2.989583</td><td> 1.746528</td><td>13.569444</td><td>10.454861</td></tr>\n",
       "\t<tr><th scope=row>Angl</th><td> 5.427083</td><td> 2.194444</td><td>10.454861</td><td> 8.902778</td></tr>\n",
       "</tbody>\n",
       "</table>\n"
      ]
     },
     "execution_count": 9,
     "metadata": {
     },
     "output_type": "execute_result"
    }
   ],
   "source": [
    "# Covariance\n",
    "S=t(Xb)%*%Xb/8\n",
    "S"
   ]
  },
  {
   "cell_type": "code",
   "execution_count": 10,
   "metadata": {
    "collapsed": false
   },
   "outputs": [
    {
     "data": {
      "text/html": [
       "<dl>\n",
       "\t<dt>$d</dt>\n",
       "\t\t<dd><ol class=list-inline>\n",
       "\t<li>14.5488526595632</li>\n",
       "\t<li>10.9154770279556</li>\n",
       "\t<li>8.58063974258191</li>\n",
       "\t<li>0.471737021215316</li>\n",
       "</ol>\n",
       "</dd>\n",
       "\t<dt>$u</dt>\n",
       "\t\t<dd><table>\n",
       "<tbody>\n",
       "\t<tr><td>-0.56111468</td><td>-0.06559919</td><td>-0.01213540</td><td>-0.19436462</td></tr>\n",
       "\t<tr><td>-0.23055617</td><td>-0.07488867</td><td>-0.04834359</td><td> 0.05942450</td></tr>\n",
       "\t<tr><td>-0.13970087</td><td> 0.20775306</td><td>-0.30822765</td><td> 0.28867867</td></tr>\n",
       "\t<tr><td> 0.70927433</td><td>-0.22629485</td><td>-0.07574595</td><td> 0.06549936</td></tr>\n",
       "\t<tr><td> 0.11332658</td><td> 0.58106138</td><td> 0.73303165</td><td> 0.02323628</td></tr>\n",
       "\t<tr><td>-0.22524932</td><td>-0.42214127</td><td> 0.23416428</td><td> 0.01481155</td></tr>\n",
       "\t<tr><td> 0.04254077</td><td> 0.39324932</td><td>-0.47791916</td><td> 0.31803529</td></tr>\n",
       "\t<tr><td> 0.11801095</td><td>-0.46856042</td><td> 0.17148770</td><td> 0.26173128</td></tr>\n",
       "\t<tr><td> 0.17346841</td><td> 0.07542064</td><td>-0.21631188</td><td>-0.83705231</td></tr>\n",
       "</tbody>\n",
       "</table>\n",
       "</dd>\n",
       "\t<dt>$v</dt>\n",
       "\t\t<dd><table>\n",
       "<tbody>\n",
       "\t<tr><td>0.4586820   </td><td>-0.2552142  </td><td> 0.82569422 </td><td> 0.206653284</td></tr>\n",
       "\t<tr><td>0.3695920   </td><td>-0.8105760  </td><td>-0.45423155 </td><td>-0.006481091</td></tr>\n",
       "\t<tr><td>0.5976476   </td><td> 0.4550468  </td><td>-0.33387138 </td><td> 0.569455627</td></tr>\n",
       "\t<tr><td>0.5439025   </td><td> 0.2660164  </td><td>-0.02080026 </td><td>-0.795595817</td></tr>\n",
       "</tbody>\n",
       "</table>\n",
       "</dd>\n",
       "</dl>\n"
      ]
     },
     "execution_count": 10,
     "metadata": {
     },
     "output_type": "execute_result"
    }
   ],
   "source": [
    "# SVD\n",
    "res=svd(Xb)\n",
    "res"
   ]
  },
  {
   "cell_type": "code",
   "execution_count": 11,
   "metadata": {
    "collapsed": false
   },
   "outputs": [
   ],
   "source": [
    "# Matrices des vecteurs propres\n",
    "U=res$u;V=res$v"
   ]
  },
  {
   "cell_type": "code",
   "execution_count": 12,
   "metadata": {
    "collapsed": false
   },
   "outputs": [
    {
     "data": {
      "text/html": [
       "<ol class=list-inline>\n",
       "\t<li>26.45863921371</li>\n",
       "\t<li>14.8934548434782</li>\n",
       "\t<li>9.20342229899703</li>\n",
       "\t<li>0.0278169771481375</li>\n",
       "</ol>\n"
      ]
     },
     "execution_count": 12,
     "metadata": {
     },
     "output_type": "execute_result"
    },
    {
     "data": {
      "text/html": [
       "<ol class=list-inline>\n",
       "\t<li>0.523070297470379</li>\n",
       "\t<li>0.294434033149486</li>\n",
       "\t<li>0.181945745614439</li>\n",
       "\t<li>0.000549923765696292</li>\n",
       "</ol>\n"
      ]
     },
     "execution_count": 12,
     "metadata": {
     },
     "output_type": "execute_result"
    }
   ],
   "source": [
    "# Valeurs propres et variance expliquée\n",
    "L=res$d*res$d/8; pct=L/sum(L)\n",
    "L;pct"
   ]
  },
  {
   "cell_type": "code",
   "execution_count": 13,
   "metadata": {
    "collapsed": false
   },
   "outputs": [
    {
     "data": {
      "text/html": [
       "<table>\n",
       "<tbody>\n",
       "\t<tr><th scope=row>Salah</th><td>-8.1635748  </td><td>-0.7160464  </td><td>-0.1041295  </td><td>-0.091688988</td></tr>\n",
       "\t<tr><th scope=row>Ali</th><td>-3.3543278  </td><td>-0.8174455  </td><td>-0.4148189  </td><td> 0.028032737</td></tr>\n",
       "\t<tr><th scope=row>Besma</th><td>-2.0324873  </td><td> 2.2677237  </td><td>-2.6447904  </td><td> 0.136180414</td></tr>\n",
       "\t<tr><th scope=row>Amina</th><td>10.3191277  </td><td>-2.4701163  </td><td>-0.6499487  </td><td> 0.030898475</td></tr>\n",
       "\t<tr><th scope=row>Marwen</th><td> 1.6487717  </td><td> 6.3425621  </td><td> 6.2898805  </td><td> 0.010961413</td></tr>\n",
       "\t<tr><th scope=row>Slim</th><td>-3.2771191  </td><td>-4.6078734  </td><td> 2.0092794  </td><td> 0.006987157</td></tr>\n",
       "\t<tr><th scope=row>Faten</th><td> 0.6189194  </td><td> 4.2925039  </td><td>-4.1008522  </td><td> 0.150029018</td></tr>\n",
       "\t<tr><th scope=row>Fatma</th><td> 1.7169239  </td><td>-5.1145605  </td><td> 1.4714741  </td><td> 0.123468336</td></tr>\n",
       "\t<tr><th scope=row>Essia</th><td> 2.5237663  </td><td> 0.8232523  </td><td>-1.8560943  </td><td>-0.394868563</td></tr>\n",
       "</tbody>\n",
       "</table>\n"
      ]
     },
     "execution_count": 13,
     "metadata": {
     },
     "output_type": "execute_result"
    }
   ],
   "source": [
    "#Composantes principales\n",
    "C=Xb%*%V\n",
    "C"
   ]
  },
  {
   "cell_type": "code",
   "execution_count": 14,
   "metadata": {
    "collapsed": false
   },
   "outputs": [
    {
     "data": {
      "image/png": "[encoded data removed]"
     },
     "execution_count": 14,
     "metadata": {
     },
     "output_type": "execute_result"
    }
   ],
   "source": [
    "boxplot(as.data.frame(C))"
   ]
  },
  {
   "cell_type": "code",
   "execution_count": 15,
   "metadata": {
    "collapsed": false
   },
   "outputs": [
    {
     "data": {
      "image/png": "[encoded data removed]"
     },
     "execution_count": 15,
     "metadata": {
     },
     "output_type": "execute_result"
    }
   ],
   "source": [
    "# Coordonnées \"isométriques lignes\"\n",
    "plot(C,type=\"n\")\n",
    "text(C,nomi)\n",
    "abline(h=0,v=0)"
   ]
  },
  {
   "cell_type": "code",
   "execution_count": 16,
   "metadata": {
    "collapsed": false
   },
   "outputs": [
    {
     "data": {
      "image/png": "[encoded data removed]"
     },
     "execution_count": 16,
     "metadata": {
     },
     "output_type": "execute_result"
    }
   ],
   "source": [
    "# Coordonnées \"isométriques colonnes\"\n",
    "plot(V[,1]*sqrt(L[1]),V[,2]*sqrt(L[2]),\n",
    "type=\"n\")\n",
    "text(V[,1]*sqrt(L[1]),V[,2]*sqrt(L[2]),\n",
    "nomv)\n",
    "abline(h=0,v=0)"
   ]
  },
  {
   "cell_type": "code",
   "execution_count": 17,
   "metadata": {
    "collapsed": false
   },
   "outputs": [
    {
     "data": {
      "text/plain": [
       "Importance of components:\n",
       "                          Comp.1    Comp.2    Comp.3       Comp.4\n",
       "Standard deviation     4.8496176 3.6384923 2.8602132 0.1572456737\n",
       "Proportion of Variance 0.5230703 0.2944340 0.1819457 0.0005499238\n",
       "Cumulative Proportion  0.5230703 0.8175043 0.9994501 1.0000000000"
      ]
     },
     "execution_count": 17,
     "metadata": {
     },
     "output_type": "execute_result"
    },
    {
     "data": {
      "image/png": "[encoded data removed]"
     },
     "execution_count": 17,
     "metadata": {
     },
     "output_type": "execute_result"
    },
    {
     "data": {
      "image/png": "[encoded data removed]"
     },
     "execution_count": 17,
     "metadata": {
     },
     "output_type": "execute_result"
    }
   ],
   "source": [
    "res1.acp=princomp(note)\n",
    "summary(res1.acp)\n",
    "plot(res1.acp)\n",
    "biplot(res1.acp)"
   ]
  },
  {
   "cell_type": "code",
   "execution_count": 18,
   "metadata": {
    "collapsed": false
   },
   "outputs": [
    {
     "data": {
      "text/plain": [
       "Importance of components%s:\n",
       "                          PC1    PC2    PC3     PC4\n",
       "Standard deviation     5.1438 3.8592 3.0337 0.16678\n",
       "Proportion of Variance 0.5231 0.2944 0.1820 0.00055\n",
       "Cumulative Proportion  0.5231 0.8175 0.9994 1.00000"
      ]
     },
     "execution_count": 18,
     "metadata": {
     },
     "output_type": "execute_result"
    },
    {
     "data": {
      "image/png": "[encoded data removed]"
     },
     "execution_count": 18,
     "metadata": {
     },
     "output_type": "execute_result"
    },
    {
     "data": {
      "image/png": "[encoded data removed]"
     },
     "execution_count": 18,
     "metadata": {
     },
     "output_type": "execute_result"
    }
   ],
   "source": [
    "res2.acp=prcomp(note)\n",
    "summary(res2.acp)\n",
    "plot(res2.acp)\n",
    "biplot(res2.acp)"
   ]
  },
  {
   "cell_type": "code",
   "execution_count": 0,
   "metadata": {
    "collapsed": false
   },
   "outputs": [
   ],
   "source": [
   ]
  }
 ],
 "metadata": {
  "kernelspec": {
   "display_name": "SageMath (stable)",
   "language": "sagemath",
   "name": "sagemath"
  },
  "language_info": {
   "codemirror_mode": {
    "name": "ipython",
    "version": 2
   },
   "file_extension": ".py",
   "mimetype": "text/x-python",
   "name": "python",
   "nbconvert_exporter": "python",
   "pygments_lexer": "ipython2",
   "version": "2.7.15"
  }
 },
 "nbformat": 4,
 "nbformat_minor": 0
}